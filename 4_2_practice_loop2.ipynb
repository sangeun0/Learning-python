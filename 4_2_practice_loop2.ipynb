{
  "nbformat": 4,
  "nbformat_minor": 0,
  "metadata": {
    "kernelspec": {
      "display_name": "Python 3",
      "language": "python",
      "name": "python3"
    },
    "language_info": {
      "codemirror_mode": {
        "name": "ipython",
        "version": 3
      },
      "file_extension": ".py",
      "mimetype": "text/x-python",
      "name": "python",
      "nbconvert_exporter": "python",
      "pygments_lexer": "ipython3",
      "version": "3.6.6"
    },
    "colab": {
      "name": "4.2 practice loop2.ipynb",
      "provenance": [],
      "collapsed_sections": [
        "qgQPG3LBTWMF"
      ],
      "include_colab_link": true
    }
  },
  "cells": [
    {
      "cell_type": "markdown",
      "metadata": {
        "id": "view-in-github",
        "colab_type": "text"
      },
      "source": [
        "<a href=\"https://colab.research.google.com/github/sangeun0/Learning-python/blob/main/4_2_practice_loop2.ipynb\" target=\"_parent\"><img src=\"https://colab.research.google.com/assets/colab-badge.svg\" alt=\"Open In Colab\"/></a>"
      ]
    },
    {
      "cell_type": "markdown",
      "metadata": {
        "id": "H7VkQJKyTWL3"
      },
      "source": [
        "# 문제 1.\n",
        "## 1부터 100까지의 정수 중 한 개를 입력받아 100 보다 작은 배수들을 차례로 출력하다가 10 의 배수가 출력되면 프로그램을 종료하도록 프로그램을 작성하시오.\n",
        "- 입력 예: 7\n",
        "- 출력 예: 7 14 21 28 35 42 49 56 63 70"
      ]
    },
    {
      "cell_type": "code",
      "metadata": {
        "id": "Za7xDAiH6g3D",
        "colab": {
          "base_uri": "https://localhost:8080/"
        },
        "outputId": "23534308-e837-4a57-afa9-dcf1df43a025"
      },
      "source": [
        "#숫자입력\n",
        "number1= int(input( \"enter the number: \"))\n",
        "i=0\n",
        "\n",
        "#몫의 범위 지정\n",
        "for i in range(1,9):\n",
        "  i=i+1\n",
        "  mul= number1*i\n",
        "  if int(mul)%10 ==number1: #배수값을 10으로 나누었을 때 입력받은 값이 나오면 프로그램 종료\n",
        "    break\n",
        "  print(mul)"
      ],
      "execution_count": null,
      "outputs": [
        {
          "output_type": "stream",
          "text": [
            "enter the number: 7\n",
            "14\n",
            "21\n",
            "28\n",
            "35\n",
            "42\n",
            "49\n",
            "56\n",
            "63\n"
          ],
          "name": "stdout"
        }
      ]
    },
    {
      "cell_type": "code",
      "metadata": {
        "id": "8dbvUfGfTWL9",
        "colab": {
          "base_uri": "https://localhost:8080/",
          "height": 130
        },
        "outputId": "f6147034-08e0-414b-bf37-883e134405b0"
      },
      "source": [
        ""
      ],
      "execution_count": null,
      "outputs": [
        {
          "output_type": "error",
          "ename": "IndentationError",
          "evalue": "ignored",
          "traceback": [
            "\u001b[0;36m  File \u001b[0;32m\"<ipython-input-12-8e80b9970d70>\"\u001b[0;36m, line \u001b[0;32m6\u001b[0m\n\u001b[0;31m    result=number*x\u001b[0m\n\u001b[0m         ^\u001b[0m\n\u001b[0;31mIndentationError\u001b[0m\u001b[0;31m:\u001b[0m expected an indented block\n"
          ]
        }
      ]
    },
    {
      "cell_type": "code",
      "metadata": {
        "id": "5UpCtHA4TWL-",
        "colab": {
          "base_uri": "https://localhost:8080/"
        },
        "outputId": "98812f6c-62f2-45d9-ebc2-67ad5c241bee"
      },
      "source": [
        ""
      ],
      "execution_count": null,
      "outputs": [
        {
          "output_type": "stream",
          "text": [
            "enter the number:6\n",
            "6\n",
            "12\n",
            "18\n",
            "24\n",
            "30\n",
            "36\n"
          ],
          "name": "stdout"
        }
      ]
    },
    {
      "cell_type": "code",
      "metadata": {
        "id": "MFeJKxTKTWL_",
        "outputId": "c5664710-5017-4721-88bb-3284506df27c"
      },
      "source": [
        ""
      ],
      "execution_count": null,
      "outputs": [
        {
          "output_type": "stream",
          "text": [
            "입력: 13\n",
            "출력: 13 26 39 52 65 78 91 "
          ],
          "name": "stdout"
        }
      ]
    },
    {
      "cell_type": "code",
      "metadata": {
        "id": "ykwYusIgTWL_"
      },
      "source": [
        ""
      ],
      "execution_count": null,
      "outputs": []
    },
    {
      "cell_type": "markdown",
      "metadata": {
        "id": "ajUXHjJ2TWL_"
      },
      "source": [
        "# 문제 2.\n",
        "## 자연수 n을 입력받아 \"출력 예\"와 같이 공백으로 구분하여 출력하는 프로그램을 작성하시오.\n",
        "- 입력 예: 3"
      ]
    },
    {
      "cell_type": "code",
      "metadata": {
        "id": "ghCXG2bATWMA",
        "colab": {
          "base_uri": "https://localhost:8080/",
          "height": 130
        },
        "outputId": "4088d408-4838-4d23-c36b-17e07eae3d83"
      },
      "source": [
        "    1\n",
        "  1 2\n",
        "1 2 3\n",
        "\n",
        "    1\n",
        "  1 3\n",
        "1 3 5\n",
        "    "
      ],
      "execution_count": null,
      "outputs": [
        {
          "output_type": "error",
          "ename": "IndentationError",
          "evalue": "ignored",
          "traceback": [
            "\u001b[0;36m  File \u001b[0;32m\"<ipython-input-13-4875f8ae36aa>\"\u001b[0;36m, line \u001b[0;32m2\u001b[0m\n\u001b[0;31m    1 2\u001b[0m\n\u001b[0m    ^\u001b[0m\n\u001b[0;31mIndentationError\u001b[0m\u001b[0;31m:\u001b[0m unexpected indent\n"
          ]
        }
      ]
    },
    {
      "cell_type": "code",
      "metadata": {
        "id": "z-zJFTG3TWMA",
        "colab": {
          "base_uri": "https://localhost:8080/"
        },
        "outputId": "fc8b7597-fc5f-4dd6-aaad-71eefda7da5f"
      },
      "source": [
        "n= int(input(\"enter the number: \"))\n",
        "# 숫자 입력\n",
        "for i in range(1,n+1):\n",
        "  #줄수 =n개\n",
        "  for j in range(1,n+1): #열수 =n개\n",
        "    if j> n+1-(i+1): # 자리값이 커야 숫자가 프린트 되도록 설정\n",
        "      print(j-((n+1)-(i+1)), end=\"\") #숫자가 n값에 가가울 수록 커지게 +1씩 되면서 출력되도록\n",
        "    else:\n",
        "      print(\" \", end=\"\") #자리값이 작으면 공백으로 채우도록 설정\n",
        "  print()"
      ],
      "execution_count": null,
      "outputs": [
        {
          "output_type": "stream",
          "text": [
            "enter the number: 3\n",
            "  1\n",
            " 12\n",
            "123\n"
          ],
          "name": "stdout"
        }
      ]
    },
    {
      "cell_type": "code",
      "metadata": {
        "id": "vey7_stuTWMA",
        "colab": {
          "base_uri": "https://localhost:8080/"
        },
        "outputId": "ec167896-d308-4b9c-9b3e-a8b8401728cc"
      },
      "source": [
        ""
      ],
      "execution_count": null,
      "outputs": [
        {
          "output_type": "stream",
          "text": [
            "1\n",
            "2\n",
            "3\n",
            "4\n",
            "5\n",
            "\n"
          ],
          "name": "stdout"
        }
      ]
    },
    {
      "cell_type": "markdown",
      "metadata": {
        "id": "J4UnDb7XTWMB"
      },
      "source": [
        "# 문제 3.\n",
        "## 자연수 n을 입력받아 \"출력 예\"와 같이 공백으로 구분하여 출력되는 프로그램을 작성하시오.\n",
        "- 입력 예 : 3"
      ]
    },
    {
      "cell_type": "code",
      "metadata": {
        "id": "S4lv-jzkTWMB",
        "colab": {
          "base_uri": "https://localhost:8080/",
          "height": 130
        },
        "outputId": "fe8849cb-5a69-4274-f368-10fa06d32cab"
      },
      "source": [
        "1 2 3\n",
        "  4 5\n",
        "    6\n",
        "    \n",
        "1 3 5\n",
        "  7 9\n",
        "    11    "
      ],
      "execution_count": null,
      "outputs": [
        {
          "output_type": "error",
          "ename": "SyntaxError",
          "evalue": "ignored",
          "traceback": [
            "\u001b[0;36m  File \u001b[0;32m\"<ipython-input-14-ff9b0dc45b02>\"\u001b[0;36m, line \u001b[0;32m1\u001b[0m\n\u001b[0;31m    1 2 3\u001b[0m\n\u001b[0m      ^\u001b[0m\n\u001b[0;31mSyntaxError\u001b[0m\u001b[0;31m:\u001b[0m invalid syntax\n"
          ]
        }
      ]
    },
    {
      "cell_type": "code",
      "metadata": {
        "id": "OlDjVuShTWMB",
        "colab": {
          "base_uri": "https://localhost:8080/"
        },
        "outputId": "38a2aa7b-4ca7-4621-a007-54d92b27f963"
      },
      "source": [
        "n= int(input(\"enter the number: \"))\n",
        "# 숫자 입력\n",
        "for i in range(n+1, 1 ,-1):\n",
        "  #줄수 =n개\n",
        "  for j in range(1,n+1): #열수 =n개\n",
        "    if j> n+1-(i+1): # 자리값이 커야 숫자가 프린트 되도록 설정\n",
        "      print(, end=\"\") #숫자가 n값에 가가울 수록 커지게 +1씩 되면서 출력되도록\n",
        "    else:\n",
        "      print(\" \", end=\"\") #자리값이 작으면 공백으로 채우도록 설정\n",
        "  print()"
      ],
      "execution_count": 101,
      "outputs": [
        {
          "output_type": "stream",
          "text": [
            "enter the number: 3\n",
            "234\n",
            "123\n",
            " 12\n"
          ],
          "name": "stdout"
        }
      ]
    },
    {
      "cell_type": "code",
      "metadata": {
        "id": "eegwKwlKTWMB",
        "colab": {
          "base_uri": "https://localhost:8080/"
        },
        "outputId": "6e307166-a9cd-48dc-f1d4-59ecb968e1bf"
      },
      "source": [
        ""
      ],
      "execution_count": 104,
      "outputs": [
        {
          "output_type": "stream",
          "text": [
            "enter the number: 3\n",
            "2 \n"
          ],
          "name": "stdout"
        }
      ]
    },
    {
      "cell_type": "code",
      "metadata": {
        "id": "eNX-aemJTWMB",
        "colab": {
          "base_uri": "https://localhost:8080/"
        },
        "outputId": "4623158d-04b3-47b9-b047-f1163d3c476d"
      },
      "source": [
        ""
      ],
      "execution_count": 108,
      "outputs": [
        {
          "output_type": "stream",
          "text": [
            "4 3 2 \n"
          ],
          "name": "stdout"
        }
      ]
    },
    {
      "cell_type": "markdown",
      "metadata": {
        "id": "L769g7YpTWMC"
      },
      "source": [
        "# 문제 4.\n",
        "## 10개의 정수를 입력받아 100 미만의 수 중 가장 큰 수와 100 이상의 수 중 가장 작은 수를 출력하는 프로그램을 작성하시오.\n",
        "- List 데이터 구조를 활용하시오.\n",
        "- 입력 예: 88 123 659 15 443 1 99 313 105 48\n",
        "- 출력 예: 99 105"
      ]
    },
    {
      "cell_type": "code",
      "metadata": {
        "id": "tzeyHI87TWMC",
        "colab": {
          "base_uri": "https://localhost:8080/"
        },
        "outputId": "e729efb8-da02-4a17-ae9f-e52cc7547461"
      },
      "source": [
        "list1 = [];\n",
        "list2 = [];\n",
        "#리스트 설정\n",
        "for i in range(10):\n",
        "    num = input(\"enter the number\") #입력값\n",
        "    if int(num) >= 100:\n",
        "        list1.append(num) #100이상 수 list1에 넣기\n",
        "    else: #나머지 list2에 넣기\n",
        "        list2.append(num)\n",
        "\n",
        "maxNum = max(list2) #list2 중 최대값\n",
        "minNum = min(list1) #list1 중 최대값\n",
        "print(maxNum, minNum)"
      ],
      "execution_count": null,
      "outputs": [
        {
          "output_type": "stream",
          "text": [
            "enter the number32\n",
            "enter the number435\n",
            "enter the number12\n",
            "enter the number101\n",
            "enter the number354\n",
            "enter the number23\n",
            "enter the number21\n",
            "enter the number76\n",
            "enter the number5\n",
            "enter the number2\n",
            "76 101\n"
          ],
          "name": "stdout"
        }
      ]
    },
    {
      "cell_type": "code",
      "metadata": {
        "id": "-FN0mhPvTWMD",
        "colab": {
          "base_uri": "https://localhost:8080/"
        },
        "outputId": "70e55dcb-d81d-4660-efa0-7f4482cc2629"
      },
      "source": [
        ""
      ],
      "execution_count": null,
      "outputs": [
        {
          "output_type": "stream",
          "text": [
            "enter the number32\n",
            "enter the number43\n",
            "enter the number101\n",
            "enter the number123\n",
            "enter the number45\n",
            "enter the number999\n",
            "enter the number234\n",
            "enter the number56\n",
            "enter the number34\n",
            "enter the number1\n",
            "56 101\n"
          ],
          "name": "stdout"
        }
      ]
    },
    {
      "cell_type": "code",
      "metadata": {
        "id": "_4FZmGxqTWMD"
      },
      "source": [
        "\n"
      ],
      "execution_count": null,
      "outputs": []
    },
    {
      "cell_type": "markdown",
      "metadata": {
        "id": "3zJOeTW7TWMD"
      },
      "source": [
        "# 문제 5.\n",
        "## 리스트을 선언한 후 정수를 차례로 입력 받다가 -1이 입력되면 입력을 중단하고, -1을 제외한 마지막 세 개의 정수를 출력하는 프로그램을 작성하시오. \n",
        "- 입력받은 정수가 -1을 제외하고 3개 미만일 경우에는 -1을 제외하고 입력받은 정수를 모두 출력한다.\n",
        "- 입력 예: 30 20 10 60 80 -1\n",
        "- 출력 예: 10 60 80"
      ]
    },
    {
      "cell_type": "code",
      "metadata": {
        "id": "wsmKhqTrTWMD",
        "outputId": "596fdb83-74cb-46ee-e4a2-ae0267f12e30"
      },
      "source": [
        "number=[]\n",
        "\n",
        "while:\n",
        "  number= input(\"enter the number: \")\n",
        "  if number == -1:\n",
        "    break\n",
        "  if number>0:\n",
        "    print()"
      ],
      "execution_count": null,
      "outputs": [
        {
          "output_type": "stream",
          "text": [
            "입력: 10\n",
            "입력: 20\n",
            "입력: 30\n",
            "입력: 60\n",
            "입력: 20\n",
            "입력: -1\n",
            "[30, 60, 20]\n"
          ],
          "name": "stdout"
        }
      ]
    },
    {
      "cell_type": "code",
      "metadata": {
        "id": "Ijd1xzzUTWME"
      },
      "source": [
        ""
      ],
      "execution_count": null,
      "outputs": []
    },
    {
      "cell_type": "markdown",
      "metadata": {
        "id": "nkhBLviATWME"
      },
      "source": [
        "# 문제 6. \n",
        "## 사용자에게 base문자열을 첫 줄에 입력받고,  다음으로 찾고자하는 문자 1개를 입력받아 문자열 내의 검색 문자의 모든 위치를 출력하는 프로그램을 작성하시오.\n",
        "- 첫 번째 위치는 0번이며 리스트에 없는 문자가 입력되면 \"none\" 라는 메시지를 출력하고 끝내는 프로그램을 작성하시오.\n",
        "- 예제: \"my name is dean\" 을 base 문자열로 입력하고, 찾고자 하는 문자를 'd'로 입력하면 11을 출력해주면 된다.\n",
        "- 만약, 찾으려는 문자가 2개 이상인 경우에는 모든 위치를 출력해준다."
      ]
    },
    {
      "cell_type": "code",
      "metadata": {
        "id": "ELANBc-zTWME",
        "colab": {
          "base_uri": "https://localhost:8080/"
        },
        "outputId": "a6a968fb-7c92-48d3-9901-e92361b65c0d"
      },
      "source": [
        "str = 'abcabcabc'\n",
        "target = 'b'\n",
        "index = -1\n",
        "while True:\n",
        "    index = str.find(target, index + 1)\n",
        "    if index == -1:\n",
        "        break\n",
        "    print('start=%d' % index)\n",
        "    \n",
        "\n"
      ],
      "execution_count": 91,
      "outputs": [
        {
          "output_type": "stream",
          "text": [
            "start=1\n",
            "start=4\n",
            "start=7\n"
          ],
          "name": "stdout"
        }
      ]
    },
    {
      "cell_type": "code",
      "metadata": {
        "id": "wT_CJ7HYTWME",
        "colab": {
          "base_uri": "https://localhost:8080/"
        },
        "outputId": "20830af4-058f-4a8d-c1c7-718196a1ee1e"
      },
      "source": [
        "base= input(\"enter the string: \")\n",
        "c= input(\"enter the character: \")\n",
        "index = -1\n",
        "while True:\n",
        "    index = base.find(c, index+1) #원하는 문자가 몇 번째에 있는지 =find함수\n",
        "                                    #find(찾을 요소, 시작위치)\n",
        "    if index == -1: #지정한 문자를 찾지 못했을 경우\n",
        "      break\n",
        "    print(index)"
      ],
      "execution_count": 95,
      "outputs": [
        {
          "output_type": "stream",
          "text": [
            "enter the string: name apple\n",
            "enter the character: a\n",
            "1\n",
            "5\n"
          ],
          "name": "stdout"
        }
      ]
    },
    {
      "cell_type": "code",
      "metadata": {
        "id": "mfXtZ3fxTWME"
      },
      "source": [
        ""
      ],
      "execution_count": null,
      "outputs": []
    },
    {
      "cell_type": "markdown",
      "metadata": {
        "id": "IK0VW7efTWMF"
      },
      "source": [
        "# 문제 7.\n",
        "## 학생들의 점수를 입력을 받다가 0이 입력되면 그 때까지 입력받은 점수를 10점 단위로 구분하여 점수대별 학생 수를 출력하는 프로그램을 작성하시오. \n",
        "- 1명도 없는 점수는 출력하지 않는다.\n",
        "- 입력 예: 63 80 95 100 46 64 88 0"
      ]
    },
    {
      "cell_type": "code",
      "metadata": {
        "id": "s1Uylg0GTWMF"
      },
      "source": [
        "출력 예: \n",
        "100 : 1 person\n",
        "90 : 1 person\n",
        "80 : 2 person\n",
        "60 : 2 person\n",
        "40 : 1 person"
      ],
      "execution_count": null,
      "outputs": []
    },
    {
      "cell_type": "code",
      "metadata": {
        "id": "oexl5SuxTWMF",
        "colab": {
          "base_uri": "https://localhost:8080/"
        },
        "outputId": "7fccb277-0111-4aa4-8e15-c37162594e82"
      },
      "source": [
        "count=0\n",
        "count1=0\n",
        "count2=0\n",
        "count3=0\n",
        "count4=0\n",
        "score=[]\n",
        "#갯수 값 전부 0으로 초기화\n",
        "while True:\n",
        "  x= input(\"enter the score: \")\n",
        "  score.append(x)\n",
        "#리스트 값에는 int사용할 수 없어 if문 마다 x값에 int \n",
        "  if int(x) == 0:\n",
        "    break\n",
        "  elif int(x)== 100:\n",
        "    count= count+ 1\n",
        "  elif int(x)>=90 and int(x)<100:\n",
        "    count1=count1+1\n",
        "  elif int(x)>=80 and int(x)<90:\n",
        "    count2=count2+1\n",
        "  elif int(x)>=60 and int(x)<80:\n",
        "    count3=count3+1\n",
        "  elif int(x)<=40 and int(x)<60:\n",
        "    count4=count4+1\n",
        "\n",
        "\n",
        "  print(\"100\", count ,\":person\")\n",
        "  print(\"90\", count1 ,\":person\")\n",
        "  print(\"80\", count2, \":persin\")\n",
        "  print(\"60\", count3 ,\":person\")\n",
        "  print(\"40\", count4 ,\":person\")"
      ],
      "execution_count": null,
      "outputs": [
        {
          "output_type": "stream",
          "text": [
            "enter the score: 0\n"
          ],
          "name": "stdout"
        }
      ]
    },
    {
      "cell_type": "markdown",
      "metadata": {
        "id": "LdNDnhSsTWMF"
      },
      "source": [
        "# 문제 8.\n",
        "## 소수(prime number)란 1보다 큰 자연수 중 1과 자기 자신 두 개만을 약수로 갖는 수를 말한다. \n",
        "- 자연수 M과 N을 입력받아 M부터 N까지 소수의 개수를 구하여 출력하는 프로그램을 작성하시오.\n",
        "- M이상 N이하의 자연수 중 소수가 몇 개인지 구하여 출력한다.\n",
        "- 입력 예: 10 100\n",
        "- 출력 예: 21"
      ]
    },
    {
      "cell_type": "code",
      "metadata": {
        "id": "zZHvnbhlTWMF",
        "colab": {
          "base_uri": "https://localhost:8080/"
        },
        "outputId": "51a99c91-1660-428c-faeb-df7e6a5beb51"
      },
      "source": [
        "m= int(input(\"enter the number1\"))\n",
        "n= int(input(\"enter the number2\"))\n",
        "count=0\n",
        "for i in range(m,n+1):\n",
        "  prime= True #범위내의 모든 숫자가 소수라고 가정\n",
        "  for k in range(2,i):\n",
        "    if i%k ==0: #자기 자신 전까지의 숫자로 나누었을때 나누어 떨어지면 소수가 아님\n",
        "      prime= False\n",
        "      continue\n",
        "  if prime :\n",
        "    count+=1 #남은 경우는 모두 소수\n",
        "print(count)"
      ],
      "execution_count": null,
      "outputs": [
        {
          "output_type": "stream",
          "text": [
            "enter the number110\n",
            "enter the number2100\n",
            "21\n"
          ],
          "name": "stdout"
        }
      ]
    },
    {
      "cell_type": "code",
      "metadata": {
        "id": "1NsP9BjsTWMF"
      },
      "source": [
        ""
      ],
      "execution_count": null,
      "outputs": []
    },
    {
      "cell_type": "markdown",
      "metadata": {
        "id": "qgQPG3LBTWMF"
      },
      "source": [
        "# 보너스\n",
        "## 자연수 M과 N이 주어질 때 M이상 N이하의 자연수 중 소수인 것을 모두 골라 이들 소수의 합과 최소값을 찾는 프로그램을 작성하시오.\n",
        "\n",
        "- 예를 들어 M=60, N=100이 경우 60이상 100이하의 자연수 중 소수는 61, 67, 71, 73, 79, 83, 89, 97 총 8개가 있으므로, \n",
        "- 이들 소수의 합은 620이고, 최소값은 61이 된다."
      ]
    },
    {
      "cell_type": "code",
      "metadata": {
        "id": "LPxwsAuKTWMG"
      },
      "source": [
        ""
      ],
      "execution_count": null,
      "outputs": []
    },
    {
      "cell_type": "code",
      "metadata": {
        "id": "W9IqZ8uWTWMG"
      },
      "source": [
        ""
      ],
      "execution_count": null,
      "outputs": []
    },
    {
      "cell_type": "markdown",
      "metadata": {
        "id": "dozRhDI9TWMG"
      },
      "source": [
        "# 문제 9.\n",
        "## 아래의 결과를 보이도록 프로그램을 작성하시오."
      ]
    },
    {
      "cell_type": "code",
      "metadata": {
        "id": "nzkC-nytTWMG"
      },
      "source": [
        "   *\n",
        "  ***\n",
        " *****\n",
        "*******"
      ],
      "execution_count": null,
      "outputs": []
    },
    {
      "cell_type": "code",
      "metadata": {
        "id": "8BYEu6T-TWMG",
        "colab": {
          "base_uri": "https://localhost:8080/"
        },
        "outputId": "1dd5c70e-af99-457c-b818-a60c3fc41b27"
      },
      "source": [
        "\n",
        "for i in range(0, 5):\n",
        "     print (\" \"* (5-i), \"*\" * (2*i-1)) #공백은 1개씩 작아짐, *은 두개씩 커짐"
      ],
      "execution_count": null,
      "outputs": [
        {
          "output_type": "stream",
          "text": [
            "      \n",
            "     *\n",
            "    ***\n",
            "   *****\n",
            "  *******\n"
          ],
          "name": "stdout"
        }
      ]
    },
    {
      "cell_type": "code",
      "metadata": {
        "id": "oEfm-Fy-TWMG"
      },
      "source": [
        ""
      ],
      "execution_count": null,
      "outputs": []
    },
    {
      "cell_type": "markdown",
      "metadata": {
        "id": "h0gk-KWqTWMG"
      },
      "source": [
        "# 문제 10.\n",
        "## 아래의 피라미드 모형을 출력하시오.\n",
        "- 출력 결과에서 #은 공백(space)로 처리해도 됨."
      ]
    },
    {
      "cell_type": "code",
      "metadata": {
        "id": "Q10Ot5DgTWMG",
        "colab": {
          "base_uri": "https://localhost:8080/"
        },
        "outputId": "50c0ef85-7fb2-437f-a1bd-f045e1f6f980"
      },
      "source": [
        "#위쪽 피라미드\n",
        "for i in range(1, 4+1):\n",
        "    print (\" \"* (4-i), \"*\" * (2*i-1))  #공백-1, 별+2\n",
        "#아래쪽 피라미드\n",
        "for j in range(4-1, 0, -1) :\n",
        "    print (\" \"* (4-j), \"*\" * (2*j-1)) #공백 +1, 별-2"
      ],
      "execution_count": null,
      "outputs": [
        {
          "output_type": "stream",
          "text": [
            "    *\n",
            "   ***\n",
            "  *****\n",
            " *******\n",
            "  *****\n",
            "   ***\n",
            "    *\n"
          ],
          "name": "stdout"
        }
      ]
    },
    {
      "cell_type": "code",
      "metadata": {
        "id": "3EDAtsriTWMH",
        "colab": {
          "base_uri": "https://localhost:8080/"
        },
        "outputId": "f09ce820-ce02-4f01-d6e6-cb8cf686f0c4"
      },
      "source": [
        "#위쪽 피라미드\n",
        "for i in range(1, 2+1):\n",
        "    print (\" \"* (2-i), \"*\" * (2*i-1))  #공백-1, 별+2\n",
        "#아래쪽 피라미드\n",
        "for j in range(2-1, 0, -1) :\n",
        "    print (\" \"* (2-j), \"*\" * (2*j-1)) #공백 +1, 별-2"
      ],
      "execution_count": null,
      "outputs": [
        {
          "output_type": "stream",
          "text": [
            "  *\n",
            " ***\n",
            "  *\n"
          ],
          "name": "stdout"
        }
      ]
    },
    {
      "cell_type": "code",
      "metadata": {
        "id": "d0vCqeRZTWMH"
      },
      "source": [
        ""
      ],
      "execution_count": null,
      "outputs": []
    },
    {
      "cell_type": "markdown",
      "metadata": {
        "id": "ppf3R7b0TWMH"
      },
      "source": [
        "# 보너스2\n",
        "## 삼각형의 높이 N을 입력받아서 아래와 같이 문자 'A'부터 차례대로 왼쪽 대각선으로 채워서 삼각형 모양을 출력하는 프로그램을 작성하시오.\n",
        "- 입력 예 : 5"
      ]
    },
    {
      "cell_type": "code",
      "metadata": {
        "id": "4fRMsq9nTWMH"
      },
      "source": [
        "        A\n",
        "      B F\n",
        "    C G J\n",
        "  D H K M\n",
        "E I L N O"
      ],
      "execution_count": null,
      "outputs": []
    },
    {
      "cell_type": "code",
      "metadata": {
        "id": "803j1nowTWMH"
      },
      "source": [
        ""
      ],
      "execution_count": null,
      "outputs": []
    },
    {
      "cell_type": "code",
      "metadata": {
        "id": "q7PLmHVWTWMH"
      },
      "source": [
        ""
      ],
      "execution_count": null,
      "outputs": []
    },
    {
      "cell_type": "markdown",
      "metadata": {
        "id": "i8sOzGgcTWMH"
      },
      "source": [
        "# 문제 11.\n",
        "## 2진수를 입력받아 10진수로 변환하여 출력하는 프로그램을 작성하시오.\n",
        "- 입력 예: 10101\n",
        "- 출력 예: 21"
      ]
    },
    {
      "cell_type": "code",
      "metadata": {
        "id": "3j2GnSNdTWMH",
        "colab": {
          "base_uri": "https://localhost:8080/"
        },
        "outputId": "d3063f09-2b35-4395-d01c-6e916cebaac4"
      },
      "source": [
        "number= input(\"enter the number: \")\n",
        "number= number[::-1]\n",
        "k = 0\n",
        "\n",
        "# print(number)\n",
        "# print(len(number))\n",
        "\n",
        "for i in range(len(number)):\n",
        "    if int(number[i]) == 1 :\n",
        "        k += 2**i\n",
        "\n",
        "print(k)"
      ],
      "execution_count": null,
      "outputs": [
        {
          "output_type": "stream",
          "text": [
            "enter the number: 11\n",
            "3\n"
          ],
          "name": "stdout"
        }
      ]
    },
    {
      "cell_type": "code",
      "metadata": {
        "id": "yyYsAXTOTWMI"
      },
      "source": [
        ""
      ],
      "execution_count": null,
      "outputs": []
    },
    {
      "cell_type": "markdown",
      "metadata": {
        "id": "NUq-gpBoTWMI"
      },
      "source": [
        "# 문제 12.\n",
        "\n",
        "## 복호화 키와 암호 문자를 입력으로 받아 원문을 구하는 프로그램을 구현하시오. 복호화 키는 26개의 소문자로 주어지며, a,b,c,d... 를 순서대로 복호화 키 문자로 대치한다는 것을 뜻한다.\n",
        "\n",
        " \n",
        "\n",
        "- 예를 들어, 복호화 키가 \"eydbkmiqugjxlvtzpnwohracsf\" 와 같이 주어진다고 하자, \n",
        "\n",
        "- 그러면 이는 다음과 같다 - a 문자는 e, b 문자는 y, ..., z 문자는 f로 바꿔줌.\n",
        "\n",
        "- 암호화 된 문자는 대소문자 혹은 공백이 올수 있고 대소문자는 대문자로 소문자는 소문자로 치환 규칙에 맞게 출력하고 , \n",
        "\n",
        "- 공백문자는 그대로 출력한다.\n",
        "\n",
        "- 입력 예: \n",
        "- eydbkmiqugjxlvtzpnwohracsf\n",
        "- Kifq oua zarxa suar bti yaagrj fa xtfgrj\n",
        "- 출력 예:\n",
        "- Jump the fence when you seeing me coming"
      ]
    },
    {
      "cell_type": "code",
      "metadata": {
        "id": "ALn65YeQTWMI"
      },
      "source": [
        ""
      ],
      "execution_count": null,
      "outputs": []
    },
    {
      "cell_type": "code",
      "metadata": {
        "id": "CS0tblcpTWMJ"
      },
      "source": [
        ""
      ],
      "execution_count": null,
      "outputs": []
    },
    {
      "cell_type": "markdown",
      "metadata": {
        "id": "Hie3wjYzTWMK"
      },
      "source": [
        "# diamond code"
      ]
    },
    {
      "cell_type": "code",
      "metadata": {
        "id": "lRoKPxtdTWMK",
        "outputId": "0e5e6ef7-ef1a-4d02-ced8-9bafd25110a6"
      },
      "source": [
        ""
      ],
      "execution_count": null,
      "outputs": [
        {
          "output_type": "stream",
          "text": [
            "Enter a floor of diamond(odd)[quit: -1]: 3\n",
            "  *  \n",
            " *** \n",
            "  *  \n",
            "Enter a floor of diamond(odd)[quit: -1]: 1\n",
            "*\n",
            "Enter a floor of diamond(odd)[quit: -1]: 5\n",
            "    *    \n",
            "   ***   \n",
            "  *****  \n",
            "   ***   \n",
            "    *    \n",
            "Enter a floor of diamond(odd)[quit: -1]: 7\n",
            "      *      \n",
            "     ***     \n",
            "    *****    \n",
            "   *******   \n",
            "    *****    \n",
            "     ***     \n",
            "      *      \n",
            "Enter a floor of diamond(odd)[quit: -1]: -1\n"
          ],
          "name": "stdout"
        }
      ]
    },
    {
      "cell_type": "code",
      "metadata": {
        "id": "xhiH0rszTWMK",
        "colab": {
          "base_uri": "https://localhost:8080/"
        },
        "outputId": "14db226e-e070-4be2-a057-b71c062ea1d6"
      },
      "source": [
        "\n",
        "n= int(input(\"enter the number: \"))\n",
        "\n",
        "for x in range(0, n):\n",
        "  for y in range(0,n-2):\n",
        "    print(\" \"*(1-i), \"*\"*(2*i+1),end=\"\")"
      ],
      "execution_count": null,
      "outputs": [
        {
          "output_type": "stream",
          "text": [
            "enter the number: 3\n",
            " ******* ******* *******"
          ],
          "name": "stdout"
        }
      ]
    },
    {
      "cell_type": "code",
      "metadata": {
        "id": "ZNaXh146TWMK",
        "colab": {
          "base_uri": "https://localhost:8080/"
        },
        "outputId": "77c99173-b917-4e25-e086-ececbfbba3f9"
      },
      "source": [
        "x= int(input(\"enter the number:\"))\n",
        "\n",
        "for i in range(0, x):\n",
        "     print (\" \"* (x-i), \"*\" * (2*i-1)) #공백은 1개씩 작아짐, *은 두개씩 커짐"
      ],
      "execution_count": null,
      "outputs": [
        {
          "output_type": "stream",
          "text": [
            "enter the number:5\n",
            "      \n",
            "     *\n",
            "    ***\n",
            "   *****\n",
            "  *******\n"
          ],
          "name": "stdout"
        }
      ]
    },
    {
      "cell_type": "code",
      "metadata": {
        "id": "3KbG0CgSTWMK",
        "outputId": "20de8dcc-4548-4b06-b7bb-2786a8a216e1"
      },
      "source": [
        ""
      ],
      "execution_count": null,
      "outputs": [
        {
          "output_type": "stream",
          "text": [
            "mid: 0\n",
            "*\n",
            "==================\n",
            "mid: 1\n",
            " * \n",
            "***\n",
            " * \n",
            "==================\n",
            "mid: 2\n",
            "  *  \n",
            " *** \n",
            "*****\n",
            " *** \n",
            "  *  \n",
            "==================\n",
            "mid: 3\n",
            "   *   \n",
            "  ***  \n",
            " ***** \n",
            "*******\n",
            " ***** \n",
            "  ***  \n",
            "   *   \n",
            "==================\n",
            "mid: 4\n",
            "    *    \n",
            "   ***   \n",
            "  *****  \n",
            " ******* \n",
            "*********\n",
            " ******* \n",
            "  *****  \n",
            "   ***   \n",
            "    *    \n",
            "==================\n"
          ],
          "name": "stdout"
        }
      ]
    },
    {
      "cell_type": "code",
      "metadata": {
        "id": "KEMNHkJVTWML",
        "colab": {
          "base_uri": "https://localhost:8080/"
        },
        "outputId": "dbe17eaa-f4ad-4952-ffbb-09c6bb0aa87e"
      },
      "source": [
        "#위쪽 피라미드\n",
        "n= int(input(\"enter the number: \"))\n",
        "\n",
        "for i in range(0, n+1):\n",
        "    print (\" \"* (n-i), \"*\" * (2*i+1))  #공백-1, 별+2\n",
        "#아래쪽 피라미드\n",
        "for j in range(n, 0, -1) :\n",
        "    print (\" \"* ((n-j)+1), \"*\" * (2*j-1)) #공백 +1, 별-2"
      ],
      "execution_count": null,
      "outputs": [
        {
          "output_type": "stream",
          "text": [
            "enter the number: 0\n",
            " *\n"
          ],
          "name": "stdout"
        }
      ]
    },
    {
      "cell_type": "code",
      "metadata": {
        "id": "6TTc4ui7TWML"
      },
      "source": [
        ""
      ],
      "execution_count": null,
      "outputs": []
    },
    {
      "cell_type": "code",
      "metadata": {
        "id": "UwabX15tTWMM"
      },
      "source": [
        ""
      ],
      "execution_count": null,
      "outputs": []
    },
    {
      "cell_type": "code",
      "metadata": {
        "id": "qfSTD7_HTWMM"
      },
      "source": [
        ""
      ],
      "execution_count": null,
      "outputs": []
    }
  ]
}