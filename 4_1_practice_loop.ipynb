{
  "nbformat": 4,
  "nbformat_minor": 0,
  "metadata": {
    "kernelspec": {
      "display_name": "Python 3",
      "language": "python",
      "name": "python3"
    },
    "language_info": {
      "codemirror_mode": {
        "name": "ipython",
        "version": 3
      },
      "file_extension": ".py",
      "mimetype": "text/x-python",
      "name": "python",
      "nbconvert_exporter": "python",
      "pygments_lexer": "ipython3",
      "version": "3.6.6"
    },
    "colab": {
      "name": "4.1 practice_loop.ipynb",
      "provenance": [],
      "collapsed_sections": [],
      "include_colab_link": true
    }
  },
  "cells": [
    {
      "cell_type": "markdown",
      "metadata": {
        "id": "view-in-github",
        "colab_type": "text"
      },
      "source": [
        "<a href=\"https://colab.research.google.com/github/sangeun0/Learning-python/blob/main/4_1_practice_loop.ipynb\" target=\"_parent\"><img src=\"https://colab.research.google.com/assets/colab-badge.svg\" alt=\"Open In Colab\"/></a>"
      ]
    },
    {
      "cell_type": "markdown",
      "metadata": {
        "id": "yc6KwdKWa6sk"
      },
      "source": [
        "# 문제 1.(for)\n",
        "## for 문을 이용하여 1부터 입력받은 정수까지의 합을 구하여 출력하는 프로그램을 작성하시오.\n",
        "- 100 이하의 양의 정수만 입력된다. \n",
        "- 입력 예: 10\n",
        "- 출력 예: 55"
      ]
    },
    {
      "cell_type": "code",
      "metadata": {
        "collapsed": true,
        "id": "KfMw44vma6sp",
        "colab": {
          "base_uri": "https://localhost:8080/"
        },
        "outputId": "54e070f3-09cd-4927-96de-b8b78177a686"
      },
      "source": [
        "number= int(input(\"enter the number\"))\n",
        "sum=0\n",
        "\n",
        "for x in range(1, number+1) :\n",
        "  #범위:1부터 입력값까지\n",
        "  sum= sum+x\n",
        "\n",
        "print( sum )"
      ],
      "execution_count": null,
      "outputs": [
        {
          "output_type": "stream",
          "text": [
            "enter the number10\n",
            "55\n"
          ],
          "name": "stdout"
        }
      ]
    },
    {
      "cell_type": "markdown",
      "metadata": {
        "id": "lG2e-siZa6sq"
      },
      "source": [
        "# 문제 2.\n",
        "## 정수를 계속 입력받다가 100 이상의 수가 입력이 되면 마지막 입력된 수를 포함하여 합계와 평균을 출력하는 프로그램을 작성하시오.\n",
        "\n",
        "- 평균은 반올림하여 소수 첫째자리까지 출력한다."
      ]
    },
    {
      "cell_type": "markdown",
      "metadata": {
        "id": "TzTgsLEjwy83"
      },
      "source": [
        ""
      ]
    },
    {
      "cell_type": "code",
      "metadata": {
        "colab": {
          "base_uri": "https://localhost:8080/"
        },
        "id": "KWVquV_0a6sq",
        "outputId": "96e64486-02e4-4078-e069-a35d68086d03"
      },
      "source": [
        "sum=0\n",
        "count=0\n",
        "number=0\n",
        "\n",
        "\n",
        "while number<100 :\n",
        "  number=int(input( \"enter the number\"))\n",
        "  count=count+1\n",
        "  print(number)\n",
        "  print(count)\n",
        "  #number값, count값 출력\n",
        "  sum= sum+number\n",
        "  #number값 100과 같거나 클 때 input출력 멈춤\n",
        "  if number>=100 :\n",
        "    ave= sum/count\n",
        "\n",
        "print(round(sum,1),round(ave,1))\n"
      ],
      "execution_count": null,
      "outputs": [
        {
          "output_type": "stream",
          "text": [
            "enter the number10\n",
            "10\n",
            "1\n",
            "enter the number10\n",
            "10\n",
            "2\n",
            "enter the number100\n",
            "100\n",
            "3\n",
            "120 40.0\n"
          ],
          "name": "stdout"
        }
      ]
    },
    {
      "cell_type": "markdown",
      "metadata": {
        "id": "zv92mH-qa6sq"
      },
      "source": [
        "# 문제 3.\n",
        "## 정수를 입력받아서 3의 배수가 아닌 경우에는 아무 작업도 하지 않고, 3의 배수인 경우에는 3으로 나눈몫을 출력하는 작업을 반복하다가 -1이 입력되면 종료하는 프로그램을 작성하시오.\n",
        "예시:\n",
        "- 5\n",
        "- 12 \n",
        "- <h2>4</h2>\n",
        "- 21\n",
        "- <h2>7</h2>\n",
        "- 100\n",
        "- -1"
      ]
    },
    {
      "cell_type": "code",
      "metadata": {
        "id": "FaJH0TEPa6sr",
        "colab": {
          "base_uri": "https://localhost:8080/"
        },
        "outputId": "b451ce3e-8bc5-43e5-8482-72e5caa85cf2"
      },
      "source": [
        "number=0\n",
        "while number>=0:\n",
        "  number= int(input( \"enter the number: \" ))\n",
        "  #number가 음수일때 종료\n",
        "  if number<0:\n",
        "    break\n",
        "  #Number/3할 때 나머지 0일 때= 3의 배수일 때\n",
        "  if number%3==0:\n",
        "    #number의 몫 출력\n",
        "    result= number//3\n",
        "    print(result)\n",
        "  else:\n",
        "    #3의 배수 아닐 때 아무 작업도 하지 않고 건너뜀\n",
        "    continue"
      ],
      "execution_count": null,
      "outputs": [
        {
          "output_type": "stream",
          "text": [
            "enter the number: 9\n",
            "3\n",
            "enter the number: 1\n",
            "enter the number: -1\n"
          ],
          "name": "stdout"
        }
      ]
    },
    {
      "cell_type": "markdown",
      "metadata": {
        "id": "qzKVsPcpa6sr"
      },
      "source": [
        "# 보너스(for)\n",
        "## 아래와 같은 모양으로 출력하는 프로그램을 작성하시오.\n",
        " - 사용자에게 숫자를 입력받아 입력 받은 높이 만큼의 삼각형을 출력하시오.\n",
        " - 입력 예: 5"
      ]
    },
    {
      "cell_type": "code",
      "metadata": {
        "id": "_UoEQ48Ka6sr"
      },
      "source": [
        "    *\n",
        "   **\n",
        "  ***\n",
        " ****\n",
        "*****"
      ],
      "execution_count": null,
      "outputs": []
    },
    {
      "cell_type": "code",
      "metadata": {
        "id": "to1HOw2fa6sr",
        "colab": {
          "base_uri": "https://localhost:8080/"
        },
        "outputId": "56c395d1-b1e7-47d8-edb2-1455a7c80d26"
      },
      "source": [
        "number= int(input( \"enter the number:\" ))\n",
        "\n",
        "#범위설정\n",
        "for x in range(1,number+1):\n",
        "  #공백= 입력값-x\n",
        "  #* = x값\n",
        "  \n",
        "  print(\" \"*(number-x),\"*\"*x)"
      ],
      "execution_count": null,
      "outputs": [
        {
          "output_type": "stream",
          "text": [
            "enter the number:5\n",
            "     *\n",
            "    **\n",
            "   ***\n",
            "  ****\n",
            " *****\n"
          ],
          "name": "stdout"
        }
      ]
    },
    {
      "cell_type": "code",
      "metadata": {
        "id": "D_pZq4Tqa6sr"
      },
      "source": [
        "i=0\n",
        "number= int(input( \"enter the number: \" ))\n",
        "while i<number:\n",
        "  "
      ],
      "execution_count": null,
      "outputs": []
    },
    {
      "cell_type": "code",
      "metadata": {
        "id": "285Au7cx3D3D"
      },
      "source": [
        ""
      ],
      "execution_count": null,
      "outputs": []
    },
    {
      "cell_type": "markdown",
      "metadata": {
        "id": "Dqp3oOdJa6ss"
      },
      "source": [
        "# 문제 4. \n",
        "## 아래와 같이 나라 이름을 출력하고 숫자를 입력받아 해당하는 나라의 수도를 출력하는 작업을 반복하다가 해당하는 번호 이외의 숫자가 입력되면 \"none\"라고 출력한 후 종료하는 프로그램을 작성하시오.\n",
        "\n",
        "* 각 나라의 수도 : \n",
        "- 대한민국 = 서울(Seoul)\n",
        "- 미국 = 워싱턴(Washington)\n",
        "- 일본 = 동경(Tokyo)\n",
        "- 중국 = 북경(Beijing)\n",
        "\n",
        "예시\n",
        "입력 예:\n",
        "1. Korea\n",
        "2. USA\n",
        "3. Japan\n",
        "4. China\n",
        "number? 1\n",
        "\n",
        "출력 예:\n",
        "Seoul\n",
        "\n",
        "1. Korea\n",
        "2. USA\n",
        "3. Japan\n",
        "4. China\n",
        "number? 5\n",
        "\n",
        "none"
      ]
    },
    {
      "cell_type": "code",
      "metadata": {
        "id": "yHaHktWi2xh9",
        "colab": {
          "base_uri": "https://localhost:8080/"
        },
        "outputId": "a1f0f20d-105c-4352-c337-558897d8e712"
      },
      "source": [
        "capital = [\"none\",\"seoul\", \"washington\", \"tokyo\", \"beijing\"] #수도 리스트\n",
        "country=[\"1.korea\",\"2.usa\",\"3.japan\",\"4.china\"] \n",
        "\n",
        "for i in country:\n",
        "  print(country[0])\n",
        "  print(country[1])\n",
        "  print(country[2])\n",
        "  print(country[3])\n",
        "  \n",
        "  number= input(\" number? \")\n",
        "  if 0<int(number) and int(number)<= 4:\n",
        "    print(capital[int(number)])\n",
        "    continue\n",
        "  else:\n",
        "    print(\"none\")\n",
        "    break\n",
        "\n",
        " \n",
        "\n"
      ],
      "execution_count": null,
      "outputs": [
        {
          "output_type": "stream",
          "text": [
            "1.korea\n",
            "2.usa\n",
            "3.japan\n",
            "4.china\n",
            " number? 2\n",
            "washington\n",
            "1.korea\n",
            "2.usa\n",
            "3.japan\n",
            "4.china\n"
          ],
          "name": "stdout"
        }
      ]
    },
    {
      "cell_type": "code",
      "metadata": {
        "id": "yWBG1Myc2e9e"
      },
      "source": [
        ""
      ],
      "execution_count": null,
      "outputs": []
    },
    {
      "cell_type": "code",
      "metadata": {
        "id": "1NbMLKxEa6ss"
      },
      "source": [
        ""
      ],
      "execution_count": null,
      "outputs": []
    },
    {
      "cell_type": "code",
      "metadata": {
        "id": "YSPeA-HIa6ss"
      },
      "source": [
        ""
      ],
      "execution_count": null,
      "outputs": []
    },
    {
      "cell_type": "markdown",
      "metadata": {
        "id": "6DMvTKTAa6ss"
      },
      "source": [
        "# 문제 5.\n",
        "## 0 이상의 정수들이 공백으로 구분되어 반복적으로 주어진다. 0이 입력되면 반복문을 멈추고 그 전까지 입력받은 수들에 대하여 홀수의 개수와 짝수의 개수를 출력하는 프로그램을 작성하시오.\n",
        "- 입력 예: 9 7 10 5 33 65 0\n",
        "- 출력 예: \n",
        " odd : 5\n",
        " even : 1"
      ]
    },
    {
      "cell_type": "code",
      "metadata": {
        "id": "3DvYz_A832In",
        "colab": {
          "base_uri": "https://localhost:8080/"
        },
        "outputId": "ef56076a-1f07-4ec6-d0b7-ccb4eb3dd85c"
      },
      "source": [
        "odd=0\n",
        "even=0\n",
        "\n",
        "while True:\n",
        "  number= input( \"enter the number: \" )\n",
        "#정수 입력\n",
        "  if int(number) ==0 :\n",
        "    break\n",
        "#0이 입력되면 루프 멈춤\n",
        "  if int(number)%2 == 1 : \n",
        "      odd=odd+1  #홀수\n",
        "\n",
        "  if int(number)%2 == 0 : #해당 조건에 0 포함되지 않도록 number=0인 조건은 맨 위로\n",
        "      even=even+1 #짝수\n",
        "\n",
        "\n",
        "\n",
        "print(\"odd:\", odd , \"even:\", even)\n"
      ],
      "execution_count": null,
      "outputs": [
        {
          "output_type": "stream",
          "text": [
            "enter the number: 2\n",
            "enter the number: 3\n",
            "enter the number: 4\n",
            "enter the number: 5\n",
            "enter the number: 0\n",
            "odd: 2 even: 2\n"
          ],
          "name": "stdout"
        }
      ]
    },
    {
      "cell_type": "code",
      "metadata": {
        "id": "2mIHkKgHa6ss"
      },
      "source": [
        "\n"
      ],
      "execution_count": null,
      "outputs": []
    },
    {
      "cell_type": "code",
      "metadata": {
        "id": "7ySkoMYZa6ss"
      },
      "source": [
        ""
      ],
      "execution_count": null,
      "outputs": []
    },
    {
      "cell_type": "markdown",
      "metadata": {
        "id": "Q_7mEkb-a6ss"
      },
      "source": [
        "# 문제 6.\n",
        "## 삼각형의 밑변의 길이와 높이를 입력받아 넓이를 출력하고, \"Continue? \"에서 하나의 문자를 입력받아 그 문자가 'Y' 나 'y' 이면 작업을 반복하고 다른 문자이면 종료하는 프로그램을 작성하시오.\n",
        "\n",
        "- 넓이는 반올림하여 소수 첫째자리까지 출력한다.\n",
        "예시\n",
        "###### Base = 11\n",
        "###### Height = 5\n",
        "###### Triangle width = 27.5\n",
        "###### Continue? Y\n",
        "###### Base = 10\n",
        "###### Height = 10\n",
        "###### Triangle width = 50.0\n",
        "###### Continue? N"
      ]
    },
    {
      "cell_type": "code",
      "metadata": {
        "id": "MvBABNd3a6st"
      },
      "source": [
        "base= input( \"enter the base: \" )\n",
        "height= input( \"enter the height: \")\n",
        "answering= \"yY\"\n",
        "\n",
        "\n",
        "for x in base:\n",
        "  for y in height:\n",
        "    print(\"Triangle width=\", int(base)*int(height) )\n",
        "\n",
        "answer= input( \"continue?\" )\n",
        "for z in answer:\n",
        "  if z in answering:\n",
        "    continue\n",
        "  else:\n",
        "    break\n"
      ],
      "execution_count": null,
      "outputs": []
    },
    {
      "cell_type": "code",
      "metadata": {
        "id": "esoYg9M_a6st",
        "colab": {
          "base_uri": "https://localhost:8080/",
          "height": 232
        },
        "outputId": "277facc4-4a84-4616-a58e-36a5e3dec02a"
      },
      "source": [
        ""
      ],
      "execution_count": null,
      "outputs": [
        {
          "output_type": "error",
          "ename": "NameError",
          "evalue": "ignored",
          "traceback": [
            "\u001b[0;31m---------------------------------------------------------------------------\u001b[0m",
            "\u001b[0;31mNameError\u001b[0m                                 Traceback (most recent call last)",
            "\u001b[0;32m<ipython-input-127-4497462bec5b>\u001b[0m in \u001b[0;36m<module>\u001b[0;34m()\u001b[0m\n\u001b[1;32m      1\u001b[0m \u001b[0mnumber\u001b[0m\u001b[0;34m=\u001b[0m\u001b[0;36m0\u001b[0m\u001b[0;34m\u001b[0m\u001b[0;34m\u001b[0m\u001b[0m\n\u001b[0;32m----> 2\u001b[0;31m \u001b[0;32mwhile\u001b[0m \u001b[0mbase\u001b[0m\u001b[0;34m>=\u001b[0m\u001b[0;36m0\u001b[0m\u001b[0;34m:\u001b[0m\u001b[0;34m\u001b[0m\u001b[0;34m\u001b[0m\u001b[0m\n\u001b[0m\u001b[1;32m      3\u001b[0m   \u001b[0mbase\u001b[0m\u001b[0;34m=\u001b[0m \u001b[0minput\u001b[0m\u001b[0;34m(\u001b[0m \u001b[0;34m\"enter the base: \"\u001b[0m \u001b[0;34m)\u001b[0m\u001b[0;34m\u001b[0m\u001b[0;34m\u001b[0m\u001b[0m\n\u001b[1;32m      4\u001b[0m   \u001b[0mheight\u001b[0m\u001b[0;34m=\u001b[0m \u001b[0minput\u001b[0m\u001b[0;34m(\u001b[0m \u001b[0;34m\"enter the height: \"\u001b[0m\u001b[0;34m)\u001b[0m\u001b[0;34m\u001b[0m\u001b[0;34m\u001b[0m\u001b[0m\n\u001b[1;32m      5\u001b[0m   \u001b[0;31m#number가 음수일때 종료\u001b[0m\u001b[0;34m\u001b[0m\u001b[0;34m\u001b[0m\u001b[0;34m\u001b[0m\u001b[0m\n",
            "\u001b[0;31mNameError\u001b[0m: name 'base' is not defined"
          ]
        }
      ]
    },
    {
      "cell_type": "markdown",
      "metadata": {
        "id": "O_5er0Qoa6st"
      },
      "source": [
        "# 문제 7.(for)\n",
        "## 100 이하의 두 개의 정수를 입력받아 작은 수부터 큰 수까지 차례대로 출력하는 프로그램을 작성하시오.\n",
        "- 입력 예: 5 10\n",
        "- 출력 예: 5 6 7 8 9 10"
      ]
    },
    {
      "cell_type": "code",
      "metadata": {
        "id": "G9uE9UXla6st",
        "colab": {
          "base_uri": "https://localhost:8080/"
        },
        "outputId": "916f466f-3f1c-4973-cef7-920c2018b812"
      },
      "source": [
        "#숫자 두개 입력받기\n",
        "number1= input(\"enter the number1: \")\n",
        "number2= input(\"enter the number2: \")\n",
        "\n",
        "for x in range( int(number1), int(number2)+1 ):\n",
        "  print(x)\n",
        "for y in range( int(number2), int(number1)+1 ):\n",
        "  print(y)\n"
      ],
      "execution_count": null,
      "outputs": [
        {
          "output_type": "stream",
          "text": [
            "enter the number1: 20\n",
            "enter the number2: 30\n",
            "20\n",
            "21\n",
            "22\n",
            "23\n",
            "24\n",
            "25\n",
            "26\n",
            "27\n",
            "28\n",
            "29\n",
            "30\n"
          ],
          "name": "stdout"
        }
      ]
    },
    {
      "cell_type": "markdown",
      "metadata": {
        "id": "u-hyexsNa6st"
      },
      "source": [
        "# 문제 8.(for)\n",
        "## 두 개의 정수를 입력받아 두 정수 사이(두 정수를 포함)에 3의 배수이거나 5의 배수인 수들의 합과 평균을 출력하는 프로그램을 작성하시오.\n",
        "- 평균은 반올림하여 소수 첫째자리까지 출력한다.\n",
        "- 입력 예: 10 15\n",
        "- 출력 예: \n",
        "sum : 37\n",
        "avg : 12.3"
      ]
    },
    {
      "cell_type": "code",
      "metadata": {
        "id": "P6yDsRYsa6st",
        "colab": {
          "base_uri": "https://localhost:8080/"
        },
        "outputId": "e637e8a2-a06a-4471-992d-f91f1da66f19"
      },
      "source": [
        "#숫자 두개 입력받기\n",
        "number1= input(\"enter the number1: \")\n",
        "number2= input(\"enter the number2: \")\n",
        "\n",
        "sum=0\n",
        "count=0\n",
        "\n",
        "#number1부터 number2까지 범위지정\n",
        "for x in range( int(number1), int(number2)+1): #number2포함위해 +1\n",
        "  if x%3==0 or x%5==0 : #조건지정:3의배수, 5의배수 \n",
        "    count=count+1 #루프 횟수로 count지정\n",
        "    sum= sum+x\n",
        "    avg= sum/count\n",
        "  \n",
        "print(sum)\n",
        "print(round(avg,1)) "
      ],
      "execution_count": null,
      "outputs": [
        {
          "output_type": "stream",
          "text": [
            "enter the number1: 10\n",
            "enter the number2: 15\n",
            "37\n",
            "12.3\n"
          ],
          "name": "stdout"
        }
      ]
    },
    {
      "cell_type": "markdown",
      "metadata": {
        "id": "jC8pfHL5a6st"
      },
      "source": [
        "# 문제 9. (for)\n",
        "## 2부터 9까지의 수 중 2개를 입력받아 입력받은 수 사이의 구구단을 출력하는 프로그램을 작성하시오.\n",
        "- 단 반드시 먼저 입력된 수의 구구단부터 아래의 형식에 맞게 출력하여야 한다.\n",
        "- 구구단 사이의 공백은 3칸이다.\n",
        "- 입력 예: 5 3\n",
        "- 출력 예:\n",
        "5 * 1 =  5   4 * 1 =  4   3 * 1 =  3\n",
        "5 * 2 = 10   4 * 2 =  8   3 * 2 =  6\n",
        "5 * 3 = 15   4 * 3 = 12   3 * 3 =  9\n",
        "5 * 4 = 20   4 * 4 = 16   3 * 4 = 12\n",
        "5 * 5 = 25   4 * 5 = 20   3 * 5 = 15\n",
        "5 * 6 = 30   4 * 6 = 24   3 * 6 = 18\n",
        "5 * 7 = 35   4 * 7 = 28   3 * 7 = 21\n",
        "5 * 8 = 40   4 * 8 = 32   3 * 8 = 24\n",
        "5 * 9 = 45   4 * 9 = 36   3 * 9 = 27"
      ]
    },
    {
      "cell_type": "code",
      "metadata": {
        "id": "pSa9dBdca6su",
        "colab": {
          "base_uri": "https://localhost:8080/"
        },
        "outputId": "6b4755f3-698c-4a64-d725-8d54e4f2472c"
      },
      "source": [
        "#숫자 입력받기\n",
        "number1= int(input(\"enter the number1: \"))\n",
        "number2= int(input(\"enter the number2: \"))\n",
        "\n",
        "#number1과 number2사이의 수 number3 범위 지정\n",
        "number3= 23456789\n",
        "\n",
        "#구구단 의 몫 i값 범위 지정\n",
        "for i in range(0,9):\n",
        "  i= i+1\n",
        "  multiple1= number1*i\n",
        "  multiple2= number2*i\n",
        "  for number3 in range(int(number1),int(number2)) or range(int(number2), int(number1)): #number1,2크기에 따라 오류나지 않게 이중범위 지정\n",
        "    multiple3= number3*i\n",
        "  print(number1,\"*\",i,\"=\",multiple1,\"   \",number3,\"*\",i,\"=\",multiple3,\"   \",number2,\"*\",i,\"=\",multiple2)\n"
      ],
      "execution_count": null,
      "outputs": [
        {
          "output_type": "stream",
          "text": [
            "enter the number1: 5\n",
            "enter the number2: 3\n",
            "5 * 1 = 5     4 * 1 = 4     3 * 1 = 3\n",
            "5 * 2 = 10     4 * 2 = 8     3 * 2 = 6\n",
            "5 * 3 = 15     4 * 3 = 12     3 * 3 = 9\n",
            "5 * 4 = 20     4 * 4 = 16     3 * 4 = 12\n",
            "5 * 5 = 25     4 * 5 = 20     3 * 5 = 15\n",
            "5 * 6 = 30     4 * 6 = 24     3 * 6 = 18\n",
            "5 * 7 = 35     4 * 7 = 28     3 * 7 = 21\n",
            "5 * 8 = 40     4 * 8 = 32     3 * 8 = 24\n",
            "5 * 9 = 45     4 * 9 = 36     3 * 9 = 27\n"
          ],
          "name": "stdout"
        }
      ]
    },
    {
      "cell_type": "code",
      "metadata": {
        "id": "U98G8eiCa6su",
        "colab": {
          "base_uri": "https://localhost:8080/",
          "height": 266
        },
        "outputId": "b5566a02-d8cf-4872-ae4e-176ade37fbd0"
      },
      "source": [
        ""
      ],
      "execution_count": null,
      "outputs": [
        {
          "output_type": "stream",
          "text": [
            "enter the number1: 3\n",
            "enter the number2: 6\n"
          ],
          "name": "stdout"
        },
        {
          "output_type": "error",
          "ename": "TypeError",
          "evalue": "ignored",
          "traceback": [
            "\u001b[0;31m---------------------------------------------------------------------------\u001b[0m",
            "\u001b[0;31mTypeError\u001b[0m                                 Traceback (most recent call last)",
            "\u001b[0;32m<ipython-input-91-0e2bd51570c2>\u001b[0m in \u001b[0;36m<module>\u001b[0;34m()\u001b[0m\n\u001b[1;32m      2\u001b[0m \u001b[0mnumber1\u001b[0m\u001b[0;34m=\u001b[0m \u001b[0;34m(\u001b[0m\u001b[0minput\u001b[0m\u001b[0;34m(\u001b[0m\u001b[0;34m\"enter the number1: \"\u001b[0m\u001b[0;34m)\u001b[0m\u001b[0;34m)\u001b[0m\u001b[0;34m\u001b[0m\u001b[0;34m\u001b[0m\u001b[0m\n\u001b[1;32m      3\u001b[0m \u001b[0mnumber2\u001b[0m\u001b[0;34m=\u001b[0m \u001b[0minput\u001b[0m\u001b[0;34m(\u001b[0m\u001b[0;34m\"enter the number2: \"\u001b[0m\u001b[0;34m)\u001b[0m\u001b[0;34m\u001b[0m\u001b[0;34m\u001b[0m\u001b[0m\n\u001b[0;32m----> 4\u001b[0;31m \u001b[0mnumber3\u001b[0m\u001b[0;34m=\u001b[0m \u001b[0mrange\u001b[0m\u001b[0;34m(\u001b[0m\u001b[0mnumber1\u001b[0m\u001b[0;34m,\u001b[0m\u001b[0mnumber2\u001b[0m\u001b[0;34m)\u001b[0m\u001b[0;34m\u001b[0m\u001b[0;34m\u001b[0m\u001b[0m\n\u001b[0m\u001b[1;32m      5\u001b[0m \u001b[0;34m\u001b[0m\u001b[0m\n\u001b[1;32m      6\u001b[0m \u001b[0mprint\u001b[0m\u001b[0;34m(\u001b[0m\u001b[0mnumber1\u001b[0m\u001b[0;34m,\u001b[0m \u001b[0mnumber2\u001b[0m\u001b[0;34m,\u001b[0m \u001b[0mnumber3\u001b[0m\u001b[0;34m)\u001b[0m\u001b[0;34m\u001b[0m\u001b[0;34m\u001b[0m\u001b[0m\n",
            "\u001b[0;31mTypeError\u001b[0m: 'str' object cannot be interpreted as an integer"
          ]
        }
      ]
    },
    {
      "cell_type": "markdown",
      "metadata": {
        "id": "0jJ3jLGCa6su"
      },
      "source": [
        "# 보너스2 (for)\n",
        "## 아래와 같은 모양으로 출력하는 프로그램을 작성하시오.\n",
        " - 사용자에게 숫자를 입력받아 입력 받은 높이 만큼의 삼각형을 출력하시오.\n",
        " - 입력 예: 5"
      ]
    },
    {
      "cell_type": "code",
      "metadata": {
        "id": "kGBh7-a-a6su"
      },
      "source": [
        "*****\n",
        " ****\n",
        "  ***\n",
        "   **\n",
        "    *"
      ],
      "execution_count": null,
      "outputs": []
    },
    {
      "cell_type": "code",
      "metadata": {
        "id": "CJzEtRCja6su",
        "colab": {
          "base_uri": "https://localhost:8080/"
        },
        "outputId": "ece5a4b2-385b-4eee-aec1-7fb1634f6434"
      },
      "source": [
        "number= int(input( \"enter the number:\" ))\n",
        "x=0\n",
        "#범위설정\n",
        "for x in range(number,0,-1):\n",
        "  #공백= 입력값-x\n",
        "  #* = x값\n",
        "  print(\" \"*(number-x),\"*\"*x)"
      ],
      "execution_count": null,
      "outputs": [
        {
          "output_type": "stream",
          "text": [
            "enter the number:10\n",
            " **********\n",
            "  *********\n",
            "   ********\n",
            "    *******\n",
            "     ******\n",
            "      *****\n",
            "       ****\n",
            "        ***\n",
            "         **\n",
            "          *\n"
          ],
          "name": "stdout"
        }
      ]
    },
    {
      "cell_type": "code",
      "metadata": {
        "id": "lMJVHYcDa6su",
        "colab": {
          "base_uri": "https://localhost:8080/"
        },
        "outputId": "b0b6bcbc-959a-4aa9-b659-b0299b2d83ff"
      },
      "source": [
        "number= int(input( \"enter the number:\" ))\n",
        "x=0\n",
        "#범위설정\n",
        "for x in range(0,number):\n",
        "  #공백= x값\n",
        "  #* = 입력값-x\n",
        "  print(\" \"*x,\"*\"*(number-x))"
      ],
      "execution_count": null,
      "outputs": [
        {
          "output_type": "stream",
          "text": [
            "enter the number:5\n",
            " *****\n",
            "  ****\n",
            "   ***\n",
            "    **\n",
            "     *\n"
          ],
          "name": "stdout"
        }
      ]
    },
    {
      "cell_type": "code",
      "metadata": {
        "id": "V65G_8j5a6su"
      },
      "source": [
        ""
      ],
      "execution_count": null,
      "outputs": []
    }
  ]
}