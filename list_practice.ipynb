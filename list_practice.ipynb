{
  "nbformat": 4,
  "nbformat_minor": 0,
  "metadata": {
    "kernelspec": {
      "display_name": "Python 3",
      "language": "python",
      "name": "python3"
    },
    "language_info": {
      "codemirror_mode": {
        "name": "ipython",
        "version": 3
      },
      "file_extension": ".py",
      "mimetype": "text/x-python",
      "name": "python",
      "nbconvert_exporter": "python",
      "pygments_lexer": "ipython3",
      "version": "3.6.6"
    },
    "colab": {
      "name": "list_practice.ipynb",
      "provenance": [],
      "include_colab_link": true
    }
  },
  "cells": [
    {
      "cell_type": "markdown",
      "metadata": {
        "id": "view-in-github",
        "colab_type": "text"
      },
      "source": [
        "<a href=\"https://colab.research.google.com/github/sangeun0/Learning-python/blob/main/list_practice.ipynb\" target=\"_parent\"><img src=\"https://colab.research.google.com/assets/colab-badge.svg\" alt=\"Open In Colab\"/></a>"
      ]
    },
    {
      "cell_type": "markdown",
      "metadata": {
        "id": "1wpPNEYSy-Tu"
      },
      "source": [
        "# 문제 1.\n",
        "- 문자 10개를 저장할 수 있는 리스트를 만들고 10개의 문자를 입력받아 입력받은 문자를 이어서 출력하는 프로그램을 작성하시오.\n",
        "- 입력 예: A B C D E F G H I J\n",
        "- 출력 예: ABCDEFGHIJ"
      ]
    },
    {
      "cell_type": "code",
      "metadata": {
        "id": "HfryDyz2y-T4",
        "colab": {
          "base_uri": "https://localhost:8080/"
        },
        "outputId": "e8ed5b6c-8ee5-438d-9f6d-953af8f1ef04"
      },
      "source": [
        "word1=[] #리스트 설정\n",
        "for word in range(10): #문자 10개 입력\n",
        "  word= input( \"enter the word: \" )\n",
        "  word1.append(word) #입력되는 문자 리스트로 추가\n",
        "  s= \"\".join(word1) #출력값 변수로 변환 한줄로 출력\n",
        "print(s)"
      ],
      "execution_count": null,
      "outputs": [
        {
          "output_type": "stream",
          "text": [
            "enter the word: a\n",
            "enter the word: b\n",
            "enter the word: c\n",
            "enter the word: d\n",
            "enter the word: e\n",
            "enter the word: f\n",
            "enter the word: g\n",
            "enter the word: h\n",
            "enter the word: i\n",
            "enter the word: j\n",
            "abcdefghij\n"
          ],
          "name": "stdout"
        }
      ]
    },
    {
      "cell_type": "code",
      "metadata": {
        "id": "PzuI1Ev1y-T5"
      },
      "source": [
        ""
      ],
      "execution_count": null,
      "outputs": []
    },
    {
      "cell_type": "markdown",
      "metadata": {
        "id": "Hib4sNRhy-T5"
      },
      "source": [
        "# 문제 2.\n",
        "- 10개의 문자를 입력받아서 첫 번째 네 번째 일곱 번째 입력받은 문자를 차례로 출력하는 프로그램을 작성하시오.\n",
        "- 입력 예: A B C D E F G H I J\n",
        "- 출력 예: A D G"
      ]
    },
    {
      "cell_type": "code",
      "metadata": {
        "id": "xeTVOHUty-T5",
        "colab": {
          "base_uri": "https://localhost:8080/"
        },
        "outputId": "6cdc26dc-0dd4-45d0-8506-a2401614a062"
      },
      "source": [
        "word1=[] #리스트 설정\n",
        "for word in range(10): #문자 10개 입력\n",
        "  word= input( \"enter the word: \" )\n",
        "  word1.append(word) #입력되는 문자 리스트로 추가\n",
        "  \n",
        "print(word1[0],word1[3],word1[6]) #첫번째, 네번째 ,일곱 번째 문자 출력"
      ],
      "execution_count": null,
      "outputs": [
        {
          "output_type": "stream",
          "text": [
            "enter the word: d\n",
            "enter the word: f\n",
            "enter the word: g\n",
            "enter the word: h\n",
            "enter the word: j\n",
            "enter the word: r\n",
            "enter the word: c\n",
            "enter the word: w\n",
            "enter the word: r\n",
            "enter the word: y\n",
            "d h c\n"
          ],
          "name": "stdout"
        }
      ]
    },
    {
      "cell_type": "code",
      "metadata": {
        "id": "iYgnNyE0y-T6"
      },
      "source": [
        ""
      ],
      "execution_count": null,
      "outputs": []
    },
    {
      "cell_type": "markdown",
      "metadata": {
        "id": "5X6iMat3y-T6"
      },
      "source": [
        "# 문제 3.\n",
        "- 빈 리스트을 선언하고 정수를 차례로 입력받다가 0 이 입력되면 0 을 제외하고 그 때까지 입력된 정수를 가장 나중에 입력된 정수부터 차례대로 출력하는 프로그램을 작성하시오.\n",
        "- 입력 예: \n",
        "    * 3 \n",
        "    * 5\n",
        "    * 10 \n",
        "    * 55 \n",
        "    * 0\n",
        "- 출력 예: 55 10 5 3"
      ]
    },
    {
      "cell_type": "code",
      "metadata": {
        "id": "mSSG4ViDy-T6",
        "colab": {
          "base_uri": "https://localhost:8080/"
        },
        "outputId": "12c9cf85-9ace-41ed-ce7c-8d67cbaf3b00"
      },
      "source": [
        "number1= []\n",
        "\n",
        "while True:\n",
        "  number= int(input( \"enter the number: \"))\n",
        "  if number==0 :\n",
        "    break\n",
        "  if number>0:\n",
        "    number1.append(number) #리스트에 값 추가\n",
        "\n",
        "#뒤에서부터 슬라이싱\n",
        "print(number1[::-1])"
      ],
      "execution_count": null,
      "outputs": [
        {
          "output_type": "stream",
          "text": [
            "enter the number: 4\n",
            "enter the number: 6\n",
            "enter the number: 7\n",
            "enter the number: 8\n",
            "enter the number: 0\n",
            "[8, 7, 6, 4]\n"
          ],
          "name": "stdout"
        }
      ]
    },
    {
      "cell_type": "code",
      "metadata": {
        "id": "lHPr9eiLy-T6"
      },
      "source": [
        ""
      ],
      "execution_count": null,
      "outputs": []
    },
    {
      "cell_type": "markdown",
      "metadata": {
        "id": "8ozcCzB_y-T7"
      },
      "source": [
        "# 문제 4.\n",
        "- 1반부터 6반까지의 평균점수를 저장한 후 두 반의 반 번호를 입력받아 두 반 평균점수의 합을 출력하는 프로그램을 작성하시오.\n",
        "- 반별 평균점수는 초기값으로 1반부터 차례로 85.6 79.5 83.1 80.0 78.2 75.0으로 초기화하고, \n",
        "- 출력은 소수 두 번째 자리에서 반올림하여 소수 첫째자리까지 한다.\n",
        "- 입력 예: 1 3 (1반 3반을 의미)\n",
        "- 출력 예: 168.7"
      ]
    },
    {
      "cell_type": "code",
      "metadata": {
        "id": "gs0QTuvky-T7",
        "colab": {
          "base_uri": "https://localhost:8080/"
        },
        "outputId": "eee7eea2-1577-4c0c-8df8-a2f11db61b4c"
      },
      "source": [
        "class_float = [60 ,85.6 ,79.5 ,83.1 ,80.0 ,78.2, 75.0] #리스트 소수설정, 1반부터 시작> 입력값과 반점수 일치할 수 있도록 0번리스트 임의로 지정\n",
        "\n",
        "class1= int(input(\"enter the class1: \"))\n",
        "class2= int(input(\"enter the class2: \"))\n",
        "#반 입력받기\n",
        "avg= (class_float[class1]+class_float[class2])/2 #입력받은 반번호를 class_float에서 index값으로 찾기\n",
        "print(round(avg,1))"
      ],
      "execution_count": null,
      "outputs": [
        {
          "output_type": "stream",
          "text": [
            "enter the class1: 2\n",
            "enter the class2: 5\n",
            "78.8\n"
          ],
          "name": "stdout"
        }
      ]
    },
    {
      "cell_type": "code",
      "metadata": {
        "id": "ljeHwH0Jy-T7"
      },
      "source": [
        ""
      ],
      "execution_count": null,
      "outputs": []
    },
    {
      "cell_type": "markdown",
      "metadata": {
        "id": "sxTOTGqwy-T7"
      },
      "source": [
        "# 문제 5.\n",
        "- 10개의 정수를 입력받아 그 중 가장 작은 수를 출력하는 프로그램을 작성하시오.\n",
        "- 입력 예: 5 10 8 55 6 31 12 24 61 2\n",
        "- 출력 예: 2"
      ]
    },
    {
      "cell_type": "code",
      "metadata": {
        "id": "Jr8hszFRy-T8",
        "colab": {
          "base_uri": "https://localhost:8080/"
        },
        "outputId": "3726522a-3a4a-49d9-9fb7-0baf731f5ede"
      },
      "source": [
        "\n",
        "for number in range(10):\n",
        "  number= input(\"enter the number: \") #숫자 10개 입력\n",
        "\n",
        "print(min(number)) #최솟값구하기"
      ],
      "execution_count": null,
      "outputs": [
        {
          "output_type": "stream",
          "text": [
            "enter the number: 21\n",
            "enter the number: 43\n",
            "enter the number: 56\n",
            "enter the number: 43\n",
            "enter the number: 23\n",
            "enter the number: 67\n",
            "enter the number: 87\n",
            "enter the number: 6\n",
            "enter the number: 32\n",
            "enter the number: 4\n",
            "4\n"
          ],
          "name": "stdout"
        }
      ]
    },
    {
      "cell_type": "code",
      "metadata": {
        "id": "JtA2gUUAy-T8"
      },
      "source": [
        ""
      ],
      "execution_count": null,
      "outputs": []
    },
    {
      "cell_type": "markdown",
      "metadata": {
        "id": "t6408HTPy-T8"
      },
      "source": [
        "# 문제 6.\n",
        "- 10개의 정수를 입력받아 100 미만의 수 중 가장 큰 수와 100 이상의 수 중 가장 작은 수를 출력하는 프로그램을 작성하시오.\n",
        "- 입력 예: 88 123 659 15 443 1 99 313 105 48\n",
        "- 출력 예: 99 105"
      ]
    },
    {
      "cell_type": "code",
      "metadata": {
        "id": "6S1l0Ryjy-T8",
        "colab": {
          "base_uri": "https://localhost:8080/",
          "height": 249
        },
        "outputId": "29975b96-0547-4b6d-d65c-4c4f7fd0ac2f"
      },
      "source": [
        "number1= []\n",
        "for number in range(10):\n",
        "  number= int(input(\"enter the number: \")) #숫자 10개 입력\n",
        "  number1.append(number)\n",
        "  \n",
        "  if number<100 :\n",
        "    maxnum= max(number)\n",
        "\n",
        "  if number>=100 :\n",
        "    minnum= min(number)\n",
        "\n",
        "print(maxnum)\n",
        "print(minnum) #최솟값구하기"
      ],
      "execution_count": null,
      "outputs": [
        {
          "output_type": "stream",
          "text": [
            "enter the number: 32\n"
          ],
          "name": "stdout"
        },
        {
          "output_type": "error",
          "ename": "TypeError",
          "evalue": "ignored",
          "traceback": [
            "\u001b[0;31m---------------------------------------------------------------------------\u001b[0m",
            "\u001b[0;31mTypeError\u001b[0m                                 Traceback (most recent call last)",
            "\u001b[0;32m<ipython-input-35-35e22492d145>\u001b[0m in \u001b[0;36m<module>\u001b[0;34m()\u001b[0m\n\u001b[1;32m      3\u001b[0m \u001b[0;34m\u001b[0m\u001b[0m\n\u001b[1;32m      4\u001b[0m   \u001b[0;32mif\u001b[0m \u001b[0mnumber\u001b[0m\u001b[0;34m<\u001b[0m\u001b[0;36m100\u001b[0m \u001b[0;34m:\u001b[0m\u001b[0;34m\u001b[0m\u001b[0;34m\u001b[0m\u001b[0m\n\u001b[0;32m----> 5\u001b[0;31m     \u001b[0mmaxnum\u001b[0m\u001b[0;34m=\u001b[0m \u001b[0mmax\u001b[0m\u001b[0;34m(\u001b[0m\u001b[0mnumber\u001b[0m\u001b[0;34m)\u001b[0m\u001b[0;34m\u001b[0m\u001b[0;34m\u001b[0m\u001b[0m\n\u001b[0m\u001b[1;32m      6\u001b[0m \u001b[0;34m\u001b[0m\u001b[0m\n\u001b[1;32m      7\u001b[0m   \u001b[0;32mif\u001b[0m \u001b[0mnumber\u001b[0m\u001b[0;34m>=\u001b[0m\u001b[0;36m100\u001b[0m \u001b[0;34m:\u001b[0m\u001b[0;34m\u001b[0m\u001b[0;34m\u001b[0m\u001b[0m\n",
            "\u001b[0;31mTypeError\u001b[0m: 'int' object is not iterable"
          ]
        }
      ]
    },
    {
      "cell_type": "code",
      "metadata": {
        "id": "osr-p5eLy-T8"
      },
      "source": [
        ""
      ],
      "execution_count": null,
      "outputs": []
    },
    {
      "cell_type": "markdown",
      "metadata": {
        "id": "YR-wuuO-y-T8"
      },
      "source": [
        "# 문제 7.\n",
        "- 10개의 정수를 입력받아 리스트에 저장한 후 짝수 번째 입력된 값의 합과 홀수 번째 입력된 값의 평균을 출력하는 프로그램을 작성하시오.\n",
        "- 평균은 반올림하여 소수첫째자리까지 출력한다.\n",
        "- 입력 예: 95 100 88 65 76 89 58 93 77 99\n",
        "- 출력 예: \n",
        "    * sum : 446\n",
        "    * avg : 78.8"
      ]
    },
    {
      "cell_type": "code",
      "metadata": {
        "id": "8_mRW1_dy-T9",
        "colab": {
          "base_uri": "https://localhost:8080/"
        },
        "outputId": "6c8b610e-e2bf-434c-95fe-bb213a9606c6"
      },
      "source": [
        "number1 =[]\n",
        "\n",
        "\n",
        "for number in range(10):\n",
        "  number=int(input( \"enter the number: \" ))\n",
        "  number1.append(number)\n",
        "\n",
        "print(number1)\n",
        "odd= (number1[0:10:2]) #홀수슬라이싱\n",
        "even= (number1[1:10:2]) #짝수슬라이싱\n",
        "print( even)\n",
        "print( odd)\n",
        "\n",
        "print(\"짝수번째 덧셈\", sum(even))\n",
        "print(\"홀수번째 평균\", sum(odd)/len(odd))\n",
        " "
      ],
      "execution_count": null,
      "outputs": [
        {
          "output_type": "stream",
          "text": [
            "enter the number: 1\n",
            "enter the number: 2\n",
            "enter the number: 3\n",
            "enter the number: 4\n",
            "enter the number: 5\n",
            "enter the number: 6\n",
            "enter the number: 7\n",
            "enter the number: 8\n",
            "enter the number: 9\n",
            "enter the number: 1\n",
            "[1, 2, 3, 4, 5, 6, 7, 8, 9, 1]\n",
            "[2, 4, 6, 8, 1]\n",
            "[1, 3, 5, 7, 9]\n",
            "짝수 덧셈 21\n",
            "홀수 평균 5.0\n"
          ],
          "name": "stdout"
        }
      ]
    },
    {
      "cell_type": "code",
      "metadata": {
        "id": "KybuuXqly-T9"
      },
      "source": [
        "()"
      ],
      "execution_count": null,
      "outputs": []
    },
    {
      "cell_type": "markdown",
      "metadata": {
        "id": "sYI9NSkPy-T9"
      },
      "source": [
        "# 문제 8.\n",
        "- 10개의 정수를 입력받아 리스트에 저장한 후 내림차순으로 정렬하여 출력하시오.\n",
        "- 입력 예: 95 100 88 65 76 89 58 93 77 99\n",
        "- 출력 예: 100 99 95 93 89 88 77 76 65 58"
      ]
    },
    {
      "cell_type": "code",
      "metadata": {
        "id": "4--CfOUNy-T9",
        "colab": {
          "base_uri": "https://localhost:8080/"
        },
        "outputId": "567841ed-51ab-42bd-ee91-b9e3a9a5787a"
      },
      "source": [
        "number1= []\n",
        "\n",
        "\n",
        "for number in range(10):\n",
        "  number= int(input( \"enter the number: \" ))\n",
        "  number1.append(number)\n",
        "\n",
        "number2 = sorted(number1, reverse=True) #리스트 내림차순 정리\n",
        "print(number2)\n",
        "  "
      ],
      "execution_count": null,
      "outputs": [
        {
          "output_type": "stream",
          "text": [
            "enter the number: 3\n",
            "enter the number: 2\n",
            "enter the number: 1\n",
            "enter the number: 5\n",
            "enter the number: 6\n",
            "enter the number: 9\n",
            "enter the number: 7\n",
            "enter the number: 8\n",
            "enter the number: 34\n",
            "enter the number: 76\n",
            "[76, 34, 9, 8, 7, 6, 5, 3, 2, 1]\n"
          ],
          "name": "stdout"
        }
      ]
    },
    {
      "cell_type": "code",
      "metadata": {
        "id": "pYpzYwtsy-T9",
        "colab": {
          "base_uri": "https://localhost:8080/"
        },
        "outputId": "2ad4c05c-74d0-4afd-d508-78bb4a8bb213"
      },
      "source": [
        ""
      ],
      "execution_count": null,
      "outputs": [
        {
          "output_type": "stream",
          "text": [
            "[1, 2, 3, 4, 12, 21, 34, 54]\n"
          ],
          "name": "stdout"
        }
      ]
    }
  ]
}