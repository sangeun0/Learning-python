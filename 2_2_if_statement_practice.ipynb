{
  "nbformat": 4,
  "nbformat_minor": 0,
  "metadata": {
    "colab": {
      "name": "2.2 if_statement_practice.ipynb",
      "provenance": [],
      "collapsed_sections": [],
      "include_colab_link": true
    },
    "kernelspec": {
      "display_name": "Python 3",
      "language": "python",
      "name": "python3"
    },
    "language_info": {
      "codemirror_mode": {
        "name": "ipython",
        "version": 3
      },
      "file_extension": ".py",
      "mimetype": "text/x-python",
      "name": "python",
      "nbconvert_exporter": "python",
      "pygments_lexer": "ipython3",
      "version": "3.6.6"
    }
  },
  "cells": [
    {
      "cell_type": "markdown",
      "metadata": {
        "id": "view-in-github",
        "colab_type": "text"
      },
      "source": [
        "<a href=\"https://colab.research.google.com/github/sangeun0/Learning-python/blob/main/2_2_if_statement_practice.ipynb\" target=\"_parent\"><img src=\"https://colab.research.google.com/assets/colab-badge.svg\" alt=\"Open In Colab\"/></a>"
      ]
    },
    {
      "cell_type": "markdown",
      "metadata": {
        "id": "mEOsG-E8inv3"
      },
      "source": [
        "# 문제 1.\n",
        "- \"FizzBuzz\"문제 \n",
        " - 1에서 100까지의 숫자를 출력하되, \n",
        " - 만약 해당 숫자가 '3'으로 나누어지면 숫자 대신에 \"Fizz\"를 출력하고, \n",
        " - 만약 해당 숫자가 '5'로 나누어지면 숫자 대신에 \"Buzz\"를 출력하며, \n",
        " - 만약 해당 숫자가 '3'과 '5'로 모두 나누어지면 숫자 대신에 \"FizzBuzz\"를 출력\n",
        " - 입력 예1: 5\n",
        " - 출력 예1: \"Buzz\"\n",
        " - 입력 예2: 3\n",
        " - 출력 예2: \"Fizz\"\n",
        " - 입력 예3: 15\n",
        " - 출력 예3: \"FizzBuzz\" "
      ]
    },
    {
      "cell_type": "code",
      "metadata": {
        "colab": {
          "base_uri": "https://localhost:8080/"
        },
        "id": "mo6zix6DinwA",
        "outputId": "acc3d918-8918-45e1-b23f-6886e5952768"
      },
      "source": [
        "for i in range(1,101): #1부터 100까지 반복문 출력\n",
        "\n",
        "  if i % 3 == 0 and i % 5 == 0: #마지막 조건 맨 위로\n",
        "    print(\"FizzBuzz\")\n",
        "  elif i % 3 == 0:\n",
        "    print(\"Fizz\")\n",
        "  elif i % 5 == 0:\n",
        "    print(\"Buzz\")\n",
        "  else:\n",
        "    print(i)"
      ],
      "execution_count": null,
      "outputs": [
        {
          "output_type": "stream",
          "text": [
            "1\n",
            "2\n",
            "Fizz\n",
            "4\n",
            "Buzz\n",
            "Fizz\n",
            "7\n",
            "8\n",
            "Fizz\n",
            "Buzz\n",
            "11\n",
            "Fizz\n",
            "13\n",
            "14\n",
            "FizzBuzz\n",
            "16\n",
            "17\n",
            "Fizz\n",
            "19\n",
            "Buzz\n",
            "Fizz\n",
            "22\n",
            "23\n",
            "Fizz\n",
            "Buzz\n",
            "26\n",
            "Fizz\n",
            "28\n",
            "29\n",
            "FizzBuzz\n",
            "31\n",
            "32\n",
            "Fizz\n",
            "34\n",
            "Buzz\n",
            "Fizz\n",
            "37\n",
            "38\n",
            "Fizz\n",
            "Buzz\n",
            "41\n",
            "Fizz\n",
            "43\n",
            "44\n",
            "FizzBuzz\n",
            "46\n",
            "47\n",
            "Fizz\n",
            "49\n",
            "Buzz\n",
            "Fizz\n",
            "52\n",
            "53\n",
            "Fizz\n",
            "Buzz\n",
            "56\n",
            "Fizz\n",
            "58\n",
            "59\n",
            "FizzBuzz\n",
            "61\n",
            "62\n",
            "Fizz\n",
            "64\n",
            "Buzz\n",
            "Fizz\n",
            "67\n",
            "68\n",
            "Fizz\n",
            "Buzz\n",
            "71\n",
            "Fizz\n",
            "73\n",
            "74\n",
            "FizzBuzz\n",
            "76\n",
            "77\n",
            "Fizz\n",
            "79\n",
            "Buzz\n",
            "Fizz\n",
            "82\n",
            "83\n",
            "Fizz\n",
            "Buzz\n",
            "86\n",
            "Fizz\n",
            "88\n",
            "89\n",
            "FizzBuzz\n",
            "91\n",
            "92\n",
            "Fizz\n",
            "94\n",
            "Buzz\n",
            "Fizz\n",
            "97\n",
            "98\n",
            "Fizz\n",
            "Buzz\n"
          ],
          "name": "stdout"
        }
      ]
    },
    {
      "cell_type": "code",
      "metadata": {
        "id": "JfJTRK7EinwB"
      },
      "source": [
        ""
      ],
      "execution_count": null,
      "outputs": []
    },
    {
      "cell_type": "markdown",
      "metadata": {
        "id": "OZsGSQ63inwB"
      },
      "source": [
        "# 문제 2.\n",
        "- 나이를 입력받아 나이에 따라 지하철 교통요금 출력하는 프로그램을 만드시오.\n",
        "- 8세 미만의 어린이의 지하철 교통요금은 450원이다.\n",
        "- 8세 이상 19세 이하의 청소년 지하철 교통요금은 720원이다.\n",
        "- 20세 이상의 성인 지하철 교통요금은 1250원이다\n",
        "- 입력 예1: 2\n",
        "- 출력 예1: \"450원입니다.\"\n",
        "- 입력 예2: 19\n",
        "- 출력 예2: \"720원입니다.\"\n",
        "- 입력 예3: 82\n",
        "- 출력 예3: \"1250원입니다.\""
      ]
    },
    {
      "cell_type": "code",
      "metadata": {
        "colab": {
          "base_uri": "https://localhost:8080/"
        },
        "id": "FVKcGD1minwC",
        "outputId": "d1ff65cc-6974-473a-8578-939d0dc8c869"
      },
      "source": [
        "while True:\n",
        "  age = int(input(\"put your age: \")) #나이 입력\n",
        "\n",
        "  if age < 8:\n",
        "    print(\"450원입니다.\")\n",
        "  elif age >= 8 and age <= 19:\n",
        "    print(\"720원입니다.\")\n",
        "  else:\n",
        "    print(\"1250원입니다.\")"
      ],
      "execution_count": null,
      "outputs": [
        {
          "output_type": "stream",
          "text": [
            "450원입니다.\n",
            "450원입니다.\n",
            "450원입니다.\n",
            "1250원입니다.\n",
            "1250원입니다.\n",
            "720원입니다.\n"
          ],
          "name": "stdout"
        }
      ]
    },
    {
      "cell_type": "code",
      "metadata": {
        "id": "pX25I1bRinwC"
      },
      "source": [
        ""
      ],
      "execution_count": null,
      "outputs": []
    },
    {
      "cell_type": "markdown",
      "metadata": {
        "id": "zWHbXUOdinwC"
      },
      "source": [
        "# 문제3.\n",
        "- 초를 입력 받아서 시간과 분으로 변환하는 프로그램을 작성하시오.\n",
        "- 입력 예: 3598\n",
        "- 출력 예: 59분 58초"
      ]
    },
    {
      "cell_type": "code",
      "metadata": {
        "id": "unIqrL6JinwD"
      },
      "source": [
        "second = int(input(\"enter the second: \"))\n",
        "\n",
        "min= second // 60 #입력한 초를 60으로 나눠서 몫구하기\n",
        "sec= second - (int(min) * 60) #전체 값에서 분x60초한 값 빼기\n",
        "\n",
        "print(min, \"분\", sec, \"초\")"
      ],
      "execution_count": null,
      "outputs": []
    },
    {
      "cell_type": "markdown",
      "metadata": {
        "id": "zIiJERfqinwD"
      },
      "source": [
        "# 문제 4.\n",
        "- 섭씨를 입력받아서 화씨로 변환하는 프로그램을 작성하시오.\n",
        "- 수식:  F(화씨) = 9.0 / 5.0 * C(섭씨)+ 32\n",
        "- 입력 예: 5\n",
        "- 출력 예: 41.0"
      ]
    },
    {
      "cell_type": "code",
      "metadata": {
        "id": "udvfgof9inwD",
        "colab": {
          "base_uri": "https://localhost:8080/"
        },
        "outputId": "e46e66ab-4bb2-4ffb-8db6-9807516abaf7"
      },
      "source": [
        "Celsius= float(input( \"enter the celsius: \" ))\n",
        "Fahrenheit= 9.0 / 5.0* Celsius + 32 #섭씨>화씨 변환 공식\n",
        "\n",
        "print(Fahrenheit)"
      ],
      "execution_count": null,
      "outputs": [
        {
          "output_type": "stream",
          "text": [
            "enter the celsius: 5\n",
            "41.0\n"
          ],
          "name": "stdout"
        }
      ]
    },
    {
      "cell_type": "code",
      "metadata": {
        "id": "OShAWFcXinwE"
      },
      "source": [
        ""
      ],
      "execution_count": null,
      "outputs": []
    },
    {
      "cell_type": "markdown",
      "metadata": {
        "id": "rzjTSztKinwE"
      },
      "source": [
        "# 문제 5.\n",
        "- 화씨를 입력받아서 섭씨로 변환하는 프로그램\n",
        "- 수식: C = (5 * F - 160) / 9.0\n",
        "- 입력 예: 5\n",
        "- 출력 예: -15.0"
      ]
    },
    {
      "cell_type": "code",
      "metadata": {
        "id": "Zz5_rs31inwE",
        "colab": {
          "base_uri": "https://localhost:8080/"
        },
        "outputId": "2382ac15-e490-4b74-9617-ffe77a7ed482"
      },
      "source": [
        "Fahrenheit= float(input( \"enter the Fahrenheit: \" ))\n",
        "Celsius= (5 * Fahrenheit - 160) / 9.0 #화씨>섭씨 공식\n",
        "\n",
        "print(Celsius)"
      ],
      "execution_count": null,
      "outputs": [
        {
          "output_type": "stream",
          "text": [
            "enter the Fahrenheit: 5\n",
            "-15.0\n"
          ],
          "name": "stdout"
        }
      ]
    },
    {
      "cell_type": "code",
      "metadata": {
        "id": "G4AEMDFwinwE"
      },
      "source": [
        ""
      ],
      "execution_count": null,
      "outputs": []
    },
    {
      "cell_type": "markdown",
      "metadata": {
        "id": "6RyisiWcinwF"
      },
      "source": [
        "# 문제 6.\n",
        "- 영어 알파벳 문자 하나를 입력받아 대소문자를 구분하는 코드를 작성하십시오.\n",
        "- 입력 예1: 'A'\n",
        "- 출력 예1: 대문자입니다.\n",
        "- 입력 예2: 'h'\n",
        "- 출력 예2: 소문자입니다.\n"
      ]
    },
    {
      "cell_type": "code",
      "metadata": {
        "id": "mdxY5_YwinwF"
      },
      "source": [
        "upper= \"ABCDEFGHIJKLMNOPQRSTUVWXYZ\"\n",
        "lower= \"abcdefghijklmnopqrstuvwxyz\" #대문자,소문자 변수에 담아주기\n",
        "\n",
        "while True:\n",
        "  letter= input(\"enter the alphabet: \" ) \n",
        "  if letter in upper: \n",
        "    print(\"대문자입니다.\")\n",
        "  elif  letter in lower:\n",
        "    print(\"소문자입니다.\")"
      ],
      "execution_count": null,
      "outputs": []
    },
    {
      "cell_type": "code",
      "metadata": {
        "id": "nV4sF5utinwF"
      },
      "source": [
        ""
      ],
      "execution_count": null,
      "outputs": []
    },
    {
      "cell_type": "markdown",
      "metadata": {
        "id": "Y_lvtO49inwF"
      },
      "source": [
        "# 문제 7.\n",
        "- 가상의 두 사람(A, B)이 가위 바위 보 중 하나를 내서 승패를 가르는 가위 바위 보 게임을 작성하십시오.\n",
        "- 이 때 [\"가위\", \"바위\", \"보\"] 리스트를 활용합니다.\n",
        "- 입력 예: \"가위\" \"바위\"\n",
        "- 출력 예: \"B가 이겼습니다.\""
      ]
    },
    {
      "cell_type": "code",
      "metadata": {
        "id": "KwfrjL9TinwF"
      },
      "source": [
        "list_=[\"가위\",\"바위\",\"보\"]\n",
        "\n",
        "while True:\n",
        "    A = input(\"가위바위보: \")\n",
        "    B = input(\"가위바위보: \")\n",
        "    print(A,B)\n",
        "#가위바위보 입력 확인\n",
        "    if A == list_[0] and B== list_[1]:\n",
        "        print(\" B가 이겼습니다.\")\n",
        "    elif A == list_[0] and B== list_[2]:\n",
        "        print(\" A가 이겼습니다.\")\n",
        "    elif A == list_[1] and B== list_[2]:\n",
        "        print(\" B가 이겼습니다.\")\n",
        "    elif A == list_[1] and B== list_[0]:\n",
        "        print(\" A가 이겼습니다.\")\n",
        "    elif A == list_[2] and B== list_[0]:\n",
        "        print(\" B가 이겼습니다.\")\n",
        "    elif A == list_[2] and B== list_[1]:\n",
        "        print(\" A가 이겼습니다.\")\n",
        "\n",
        "    #무승부는 그냥 출력만 하기"
      ],
      "execution_count": null,
      "outputs": []
    },
    {
      "cell_type": "code",
      "metadata": {
        "id": "ufyi-g0XinwF"
      },
      "source": [
        ""
      ],
      "execution_count": null,
      "outputs": []
    },
    {
      "cell_type": "markdown",
      "metadata": {
        "id": "wV_MekcBinwF"
      },
      "source": [
        "# 문제 8.\n",
        "- 다음의 결과와 같이 입력된 문자가 대문자일 경우 소문자로, 소문자일 경우 대문자로 변경하고,\n",
        "- 알파벳이 아닐 경우엔 그냥 출력하는 코드를 작성하십시오.\n",
        "- 입력 예1: A\n",
        "- 출력 예1: a\n",
        "- 입력 예2: 가나다\n",
        "- 출력 예2: 가나다\n"
      ]
    },
    {
      "cell_type": "code",
      "metadata": {
        "id": "LLnBlu0LinwG",
        "colab": {
          "base_uri": "https://localhost:8080/"
        },
        "outputId": "5ffc2235-16ac-4576-b45e-190ab7df3d47"
      },
      "source": [
        "while True:\n",
        "    letter= input(\"enter the alphabet: \")\n",
        "    if letter.isupper(): #대문자 판별 함수 입력 string.isupper()\n",
        "      print(letter.lower()) #소문자로 바꾸기 string.lower()\n",
        "    elif letter.islower(): #소문자 판별 함수 입력 string.islower()\n",
        "      print(letter.upper()) #대문자로 바꾸기 string.upper()\n",
        "    else:\n",
        "      print(letter)"
      ],
      "execution_count": null,
      "outputs": [
        {
          "output_type": "stream",
          "text": [
            "ㄱ\n",
            "ㅁ\n",
            "A\n",
            "v\n"
          ],
          "name": "stdout"
        }
      ]
    },
    {
      "cell_type": "code",
      "metadata": {
        "id": "EfEJHN2cinwG"
      },
      "source": [
        ""
      ],
      "execution_count": null,
      "outputs": []
    },
    {
      "cell_type": "code",
      "metadata": {
        "id": "ZxebqEOminwG"
      },
      "source": [
        ""
      ],
      "execution_count": null,
      "outputs": []
    }
  ]
}