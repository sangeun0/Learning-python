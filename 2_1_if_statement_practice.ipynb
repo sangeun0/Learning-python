{
  "nbformat": 4,
  "nbformat_minor": 0,
  "metadata": {
    "kernelspec": {
      "display_name": "Python 3",
      "language": "python",
      "name": "python3"
    },
    "language_info": {
      "codemirror_mode": {
        "name": "ipython",
        "version": 3
      },
      "file_extension": ".py",
      "mimetype": "text/x-python",
      "name": "python",
      "nbconvert_exporter": "python",
      "pygments_lexer": "ipython3",
      "version": "3.6.6"
    },
    "colab": {
      "name": "2.1 if_statement_practice.ipynb",
      "provenance": [],
      "collapsed_sections": [],
      "include_colab_link": true
    }
  },
  "cells": [
    {
      "cell_type": "markdown",
      "metadata": {
        "id": "view-in-github",
        "colab_type": "text"
      },
      "source": [
        "<a href=\"https://colab.research.google.com/github/sangeun0/Learning-python/blob/main/2_1_if_statement_practice.ipynb\" target=\"_parent\"><img src=\"https://colab.research.google.com/assets/colab-badge.svg\" alt=\"Open In Colab\"/></a>"
      ]
    },
    {
      "cell_type": "markdown",
      "metadata": {
        "id": "JsWrZowUSwi1"
      },
      "source": [
        "# 문제 1.\n",
        "- 정수를 입력받아 첫 줄에 입력 받은 숫자를 출력하고 둘째 줄에 음수이면 “minus” 라고 출력하는 프로그램을 작성하시오.\n",
        "- 입력 예1: -5\n",
        "- 출력 예1: \n",
        "    * -5\n",
        "    * minus\n",
        "\n",
        "- 입력 예2: 5\n",
        "- 출력 예2: \n",
        "    * 5"
      ]
    },
    {
      "cell_type": "code",
      "metadata": {
        "id": "3LcZwmyPSwi8",
        "colab": {
          "base_uri": "https://localhost:8080/"
        },
        "outputId": "8eb471cb-30ee-4435-f42c-27ec12617082"
      },
      "source": [
        "number= int(input( \"enter the number: \" ))\n",
        "\n",
        "if number<0 :\n",
        "  print(number)\n",
        "  print(\"minus\")\n",
        "else:\n",
        "  print(number)"
      ],
      "execution_count": null,
      "outputs": [
        {
          "output_type": "stream",
          "text": [
            "enter the number: -2\n",
            "-2\n",
            "minus\n"
          ],
          "name": "stdout"
        }
      ]
    },
    {
      "cell_type": "code",
      "metadata": {
        "id": "jl8fQD0zSwi9"
      },
      "source": [
        ""
      ],
      "execution_count": null,
      "outputs": []
    },
    {
      "cell_type": "markdown",
      "metadata": {
        "id": "EV6FBH8PSwi9"
      },
      "source": [
        "# 문제 2.\n",
        "- “몸무게+100-키”를 비만수치 공식이라고 하자.\n",
        "- 키와 몸무게를 자연수로 입력받아 첫 번째 줄에 비만수치를 출력하고, 비만수치가 0보다 크면 다음줄에 비만(\"Obesity\")이라는 메시지를 출력하는 프로그램을 작성하시오.\n",
        "- 입력 예: 155 60\n",
        "- 출력 예: \n",
        "    * 5\n",
        "    * Obesity"
      ]
    },
    {
      "cell_type": "code",
      "metadata": {
        "id": "kF7icXQTSwi-",
        "colab": {
          "base_uri": "https://localhost:8080/"
        },
        "outputId": "242b2f16-b87f-4f5c-afe8-d45df4968905"
      },
      "source": [
        "height= int(input(\"enter the height: \"))\n",
        "weight= int(input(\"enter the weight: \"))\n",
        "비만수치 = weight+100-height\n",
        "if 비만수치>0:\n",
        "  print(비만수치)\n",
        "  print(\"obesity\")\n",
        "else:\n",
        "  print(비만수치)"
      ],
      "execution_count": null,
      "outputs": [
        {
          "output_type": "stream",
          "text": [
            "enter the height: 155\n",
            "enter the weight: 40\n",
            "-15\n"
          ],
          "name": "stdout"
        }
      ]
    },
    {
      "cell_type": "code",
      "metadata": {
        "id": "DCGFoRYpSwi-"
      },
      "source": [
        ""
      ],
      "execution_count": null,
      "outputs": []
    },
    {
      "cell_type": "markdown",
      "metadata": {
        "id": "lb0F8jfCSwi-"
      },
      "source": [
        "# 문제 3.\n",
        "- 나이를 입력받아 20살 이상이면 \"adult\"라고 출력하고 그렇지 않으면 몇 년후에 성인이 되는지를 \"○ years later\"라는 메시지를 출력하는 프로그램을 작성하시오.\n",
        "- 입력 예: 18\n",
        "- 출력 예: 2 years later"
      ]
    },
    {
      "cell_type": "code",
      "metadata": {
        "id": "ah7jg7j6Swi-",
        "colab": {
          "base_uri": "https://localhost:8080/"
        },
        "outputId": "51ea1aa5-03c5-4e64-94ed-9695035aae00"
      },
      "source": [
        "age= int(input(\"enter the age: \"))\n",
        "if age<20:\n",
        "  print(20-age,\"years later\")\n",
        "else:\n",
        "  print(\"adult\")"
      ],
      "execution_count": null,
      "outputs": [
        {
          "output_type": "stream",
          "text": [
            "enter the age: 18\n",
            "2 years later\n"
          ],
          "name": "stdout"
        }
      ]
    },
    {
      "cell_type": "code",
      "metadata": {
        "id": "uu-vMNd9Swi_"
      },
      "source": [
        ""
      ],
      "execution_count": null,
      "outputs": []
    },
    {
      "cell_type": "markdown",
      "metadata": {
        "id": "MOe6Ky19Swi_"
      },
      "source": [
        "# 문제 4.\n",
        "- 복싱체급은 몸무게가 50.80kg 이하를 Flyweight 61.23kg 이하를 Lightweight, 72.57kg 이하를 Middleweight, 88.45kg 이하를 Cruiserweight, 88.45kg 초과를 Heavyweight라고 하자.\n",
        "\n",
        "- 몸무게를 입력받아 체급을 출력하는 프로그램을 작성하시오.\n",
        "- 입력 예: 87.3\n",
        "- 출력 예: Cruiserweight"
      ]
    },
    {
      "cell_type": "code",
      "metadata": {
        "id": "OMriWkSfSwi_",
        "colab": {
          "base_uri": "https://localhost:8080/"
        },
        "outputId": "447824f9-5161-45cb-b83d-a35c2a6e0a2a"
      },
      "source": [
        "weight= float(input(\"enter the weihgt: \"))\n",
        "if weight <= 50.80 :\n",
        "  print(\"Flyweight\")\n",
        "elif weight <= 61.23 :\n",
        "  print(\"Lightweight\")\n",
        "elif weight <= 72.57 :\n",
        "  print(\"Middleweight\")\n",
        "elif weight <= 88.45 :\n",
        "  print(\"Cruiserweight\")\n",
        "else:\n",
        "  print(\"Heavyweight\")"
      ],
      "execution_count": null,
      "outputs": [
        {
          "output_type": "stream",
          "text": [
            "enter the weihgt: 72.57\n",
            "Middleweight\n"
          ],
          "name": "stdout"
        }
      ]
    },
    {
      "cell_type": "code",
      "metadata": {
        "id": "f-wEOxhESwi_"
      },
      "source": [
        ""
      ],
      "execution_count": null,
      "outputs": []
    },
    {
      "cell_type": "markdown",
      "metadata": {
        "id": "R9ZgQpiJSwi_"
      },
      "source": [
        "# 문제 5.\n",
        "- 두 개의 실수를 입력받아 모두 4.0 이상이면 \"A\", 모두 3.0 이상이면 \"B\", 아니면 \"C\" 라고 출력하는 프로그램을 작성하시오.\n",
        "- 입력 예1: 4.3 3.5\n",
        "- 출력 예1: B\n",
        "\n",
        "- 입력 예2: 4.0 2.9\n",
        "- 출력 예2: C\n"
      ]
    },
    {
      "cell_type": "code",
      "metadata": {
        "id": "un0pRFuPSwjA",
        "colab": {
          "base_uri": "https://localhost:8080/"
        },
        "outputId": "6ce7abca-8b53-41cf-f7be-880ef216dc80"
      },
      "source": [
        "number1= float(input(\"enter the number1: \"))\n",
        "number2= float(input(\"enter the number2: \"))\n",
        "\n",
        "if number1 >= 4.0 and number2 >= 4.0:\n",
        "  print(\"A\")\n",
        "elif number1 >= 3.0 and number2 >= 3.0:\n",
        "  print(\"B\")\n",
        "else:\n",
        "  print(\"C\")"
      ],
      "execution_count": null,
      "outputs": [
        {
          "output_type": "stream",
          "text": [
            "enter the number1: 3.0\n",
            "enter the number2: 4.0\n",
            "B\n"
          ],
          "name": "stdout"
        }
      ]
    },
    {
      "cell_type": "code",
      "metadata": {
        "id": "ihxyCNUbSwjA"
      },
      "source": [
        ""
      ],
      "execution_count": null,
      "outputs": []
    },
    {
      "cell_type": "markdown",
      "metadata": {
        "id": "-InNR_MtSwjA"
      },
      "source": [
        "# 문제 6.\n",
        "- 영문 대문자를 입력받아 \n",
        "- 'A'이면 “Excellent”, \n",
        "- 'B'이면 “Good”, \n",
        "- 'C'이면 “Usually”, \n",
        "- 'D'이면 “Effort”, \n",
        "- 'F'이면 “Failure”, \n",
        "- 그 외 문자이면 “error” 라고 출력하는 프로그램을 작성하시오.\n",
        "- 입력 예: B\n",
        "- 출력 예: Good"
      ]
    },
    {
      "cell_type": "code",
      "metadata": {
        "id": "7AV2UjqjSwjA",
        "colab": {
          "base_uri": "https://localhost:8080/"
        },
        "outputId": "d177a198-126c-4030-fafa-66031b67d6cd"
      },
      "source": [
        "character= input(\"enter the character: \")\n",
        "upper= \"ABCDF\"\n",
        "\n",
        "if character in upper:\n",
        "  if character == \"A\":\n",
        "    print(\"Excellent\")\n",
        "  elif character == \"B\":\n",
        "    print(\"Good\")\n",
        "  elif character == \"C\":\n",
        "    print(\"Usually\")\n",
        "  elif character == \"D\":\n",
        "    print(\"Effort\")\n",
        "  elif character == \"F\":\n",
        "    print(\"Failure\")\n",
        "else:\n",
        "  print(\"error\")"
      ],
      "execution_count": null,
      "outputs": [
        {
          "output_type": "stream",
          "text": [
            "enter the character: a\n",
            "error\n"
          ],
          "name": "stdout"
        }
      ]
    },
    {
      "cell_type": "code",
      "metadata": {
        "id": "diDCejnaSwjA"
      },
      "source": [
        ""
      ],
      "execution_count": null,
      "outputs": []
    },
    {
      "cell_type": "markdown",
      "metadata": {
        "id": "y1w-0wRdSwjA"
      },
      "source": [
        "# 문제 7.\n",
        "- 3개의 정수를 입력받아 조건문을 이용하여 입력받은 수들 중 최소값을 출력하는 프로그램을 작성하시오.\n",
        "- 입력 예: 18 -5 10\n",
        "- 출력 예: -5"
      ]
    },
    {
      "cell_type": "code",
      "metadata": {
        "id": "eOwzPo1XSwjA",
        "colab": {
          "base_uri": "https://localhost:8080/"
        },
        "outputId": "e5e5bca3-8617-4e2f-892f-7695cdfe2f52"
      },
      "source": [
        "number1= int(input(\"enter the number: \"))\n",
        "number2= int(input(\"enter the number: \"))\n",
        "number3= int(input(\"enter the number: \"))\n",
        "\n",
        "if number1<number2 and number1<number3:\n",
        "  print(number1)\n",
        "elif number2<number1 and number2<number3:\n",
        "  print(number2)\n",
        "elif number3<number1 and number3<number2:\n",
        "  print(number3)"
      ],
      "execution_count": null,
      "outputs": [
        {
          "output_type": "stream",
          "text": [
            "enter the number: -1\n",
            "enter the number: -1\n",
            "enter the number: 1\n"
          ],
          "name": "stdout"
        }
      ]
    },
    {
      "cell_type": "code",
      "metadata": {
        "id": "8p_HW1hgSwjB"
      },
      "source": [
        ""
      ],
      "execution_count": null,
      "outputs": []
    },
    {
      "cell_type": "markdown",
      "metadata": {
        "id": "mpaH2sgrSwjB"
      },
      "source": [
        "# 문제 8.\n",
        "- 년도를 입력받아 윤년(leap year)인지 평년(common year)인지 판단하는 프로그램을 작성하시오.\n",
        "- 400으로 나누어떨어지면 윤년이다. 또는 4로 나누어떨어지고 100으로 나누어떨어지지 않으면 윤년이다. 나머지는 모두 평년이다.\n",
        "- 입력 예: 2008\n",
        "- 출력 예: leap year"
      ]
    },
    {
      "cell_type": "code",
      "metadata": {
        "id": "P9_Td6CfSwjC"
      },
      "source": [
        ""
      ],
      "execution_count": null,
      "outputs": []
    },
    {
      "cell_type": "code",
      "metadata": {
        "id": "q6eTPqZmSwjC"
      },
      "source": [
        ""
      ],
      "execution_count": null,
      "outputs": []
    },
    {
      "cell_type": "markdown",
      "metadata": {
        "id": "U3XkVYRbSwjC"
      },
      "source": [
        "# 문제 9. \n",
        "- 1~12사이의 정수를 입력받아 평년의 경우 입력받은 월을 입력받아 평년의 경우 해당 월의 날수를 출력하는 프로그램을 작성하시오.\n",
        "- 평년의 경우 1월부터 12월까지 일수는 각각 31, 28, 31, 30, 31, 30, 31, 31, 30, 31, 30, 31일이다.\n",
        "- 입력 예: 2\n",
        "- 출력 예: 28"
      ]
    },
    {
      "cell_type": "code",
      "metadata": {
        "id": "mPbEuZlASwjC"
      },
      "source": [
        ""
      ],
      "execution_count": null,
      "outputs": []
    },
    {
      "cell_type": "code",
      "metadata": {
        "id": "kkRuLE99SwjC"
      },
      "source": [
        ""
      ],
      "execution_count": null,
      "outputs": []
    },
    {
      "cell_type": "markdown",
      "metadata": {
        "id": "7nsuIsNGSwjD"
      },
      "source": [
        "# 문제 10.\n",
        "- 공백을 포함한 문자열을 입력받아 각 단어로 분리하여 문자열 배열에 저장한 후 입력순서의 반대 순서로 출력하는 프로그램을 작성하시오. 문자열의 길이는 100자 이하이다.\n",
        "- 입력 예: C++ Programing jjang!!\n",
        "- 출력 예:\n",
        "    * jjang!!\n",
        "    * Programing\n",
        "    * C++"
      ]
    },
    {
      "cell_type": "code",
      "metadata": {
        "id": "9ttTE8uASwjD"
      },
      "source": [
        ""
      ],
      "execution_count": null,
      "outputs": []
    },
    {
      "cell_type": "code",
      "metadata": {
        "id": "iCCzssCkSwjD"
      },
      "source": [
        ""
      ],
      "execution_count": null,
      "outputs": []
    },
    {
      "cell_type": "code",
      "metadata": {
        "id": "Uy5H_GHMSwjF"
      },
      "source": [
        ""
      ],
      "execution_count": null,
      "outputs": []
    }
  ]
}